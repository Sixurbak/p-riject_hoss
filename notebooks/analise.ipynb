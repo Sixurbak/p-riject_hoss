{
 "cells": [
  {
   "cell_type": "markdown",
   "id": "1391f244",
   "metadata": {},
   "source": [
    "# 0.0 IMPORTS"
   ]
  },
  {
   "cell_type": "code",
   "execution_count": 42,
   "id": "69015751",
   "metadata": {},
   "outputs": [],
   "source": [
    "import pandas as pd\n",
    "import inflection\n",
    "import math\n",
    "import numpy as np\n",
    "import seaborn as sns\n",
    "from datetime import datetime\n",
    "from matplotlib import pyplot as plt"
   ]
  },
  {
   "cell_type": "markdown",
   "id": "5ab226ec",
   "metadata": {},
   "source": [
    "## 0.1 Helper functions"
   ]
  },
  {
   "cell_type": "markdown",
   "id": "732b6376",
   "metadata": {},
   "source": [
    "## 0.2 Loading data"
   ]
  },
  {
   "cell_type": "code",
   "execution_count": 43,
   "id": "8451ca8c",
   "metadata": {},
   "outputs": [
    {
     "name": "stderr",
     "output_type": "stream",
     "text": [
      "C:\\Users\\d\\AppData\\Local\\Temp\\ipykernel_15864\\1119377118.py:1: DtypeWarning: Columns (7) have mixed types. Specify dtype option on import or set low_memory=False.\n",
      "  df_sales_raw = pd.read_csv('../data/train.csv')\n"
     ]
    },
    {
     "data": {
      "application/vnd.microsoft.datawrangler.viewer.v0+json": {
       "columns": [
        {
         "name": "index",
         "rawType": "int64",
         "type": "integer"
        },
        {
         "name": "Store",
         "rawType": "int64",
         "type": "integer"
        },
        {
         "name": "DayOfWeek",
         "rawType": "int64",
         "type": "integer"
        },
        {
         "name": "Date",
         "rawType": "object",
         "type": "string"
        },
        {
         "name": "Sales",
         "rawType": "int64",
         "type": "integer"
        },
        {
         "name": "Customers",
         "rawType": "int64",
         "type": "integer"
        },
        {
         "name": "Open",
         "rawType": "int64",
         "type": "integer"
        },
        {
         "name": "Promo",
         "rawType": "int64",
         "type": "integer"
        },
        {
         "name": "StateHoliday",
         "rawType": "object",
         "type": "string"
        },
        {
         "name": "SchoolHoliday",
         "rawType": "int64",
         "type": "integer"
        },
        {
         "name": "StoreType",
         "rawType": "object",
         "type": "string"
        },
        {
         "name": "Assortment",
         "rawType": "object",
         "type": "string"
        },
        {
         "name": "CompetitionDistance",
         "rawType": "float64",
         "type": "float"
        },
        {
         "name": "CompetitionOpenSinceMonth",
         "rawType": "float64",
         "type": "float"
        },
        {
         "name": "CompetitionOpenSinceYear",
         "rawType": "float64",
         "type": "float"
        },
        {
         "name": "Promo2",
         "rawType": "int64",
         "type": "integer"
        },
        {
         "name": "Promo2SinceWeek",
         "rawType": "float64",
         "type": "float"
        },
        {
         "name": "Promo2SinceYear",
         "rawType": "float64",
         "type": "float"
        },
        {
         "name": "PromoInterval",
         "rawType": "object",
         "type": "unknown"
        }
       ],
       "ref": "ea6c4604-f131-4abd-9bb3-987c4b287052",
       "rows": [
        [
         "0",
         "1",
         "5",
         "2015-07-31",
         "5263",
         "555",
         "1",
         "1",
         "0",
         "1",
         "c",
         "a",
         "1270.0",
         "9.0",
         "2008.0",
         "0",
         null,
         null,
         null
        ],
        [
         "1",
         "2",
         "5",
         "2015-07-31",
         "6064",
         "625",
         "1",
         "1",
         "0",
         "1",
         "a",
         "a",
         "570.0",
         "11.0",
         "2007.0",
         "1",
         "13.0",
         "2010.0",
         "Jan,Apr,Jul,Oct"
        ],
        [
         "2",
         "3",
         "5",
         "2015-07-31",
         "8314",
         "821",
         "1",
         "1",
         "0",
         "1",
         "a",
         "a",
         "14130.0",
         "12.0",
         "2006.0",
         "1",
         "14.0",
         "2011.0",
         "Jan,Apr,Jul,Oct"
        ],
        [
         "3",
         "4",
         "5",
         "2015-07-31",
         "13995",
         "1498",
         "1",
         "1",
         "0",
         "1",
         "c",
         "c",
         "620.0",
         "9.0",
         "2009.0",
         "0",
         null,
         null,
         null
        ],
        [
         "4",
         "5",
         "5",
         "2015-07-31",
         "4822",
         "559",
         "1",
         "1",
         "0",
         "1",
         "a",
         "a",
         "29910.0",
         "4.0",
         "2015.0",
         "0",
         null,
         null,
         null
        ],
        [
         "5",
         "6",
         "5",
         "2015-07-31",
         "5651",
         "589",
         "1",
         "1",
         "0",
         "1",
         "a",
         "a",
         "310.0",
         "12.0",
         "2013.0",
         "0",
         null,
         null,
         null
        ],
        [
         "6",
         "7",
         "5",
         "2015-07-31",
         "15344",
         "1414",
         "1",
         "1",
         "0",
         "1",
         "a",
         "c",
         "24000.0",
         "4.0",
         "2013.0",
         "0",
         null,
         null,
         null
        ],
        [
         "7",
         "8",
         "5",
         "2015-07-31",
         "8492",
         "833",
         "1",
         "1",
         "0",
         "1",
         "a",
         "a",
         "7520.0",
         "10.0",
         "2014.0",
         "0",
         null,
         null,
         null
        ],
        [
         "8",
         "9",
         "5",
         "2015-07-31",
         "8565",
         "687",
         "1",
         "1",
         "0",
         "1",
         "a",
         "c",
         "2030.0",
         "8.0",
         "2000.0",
         "0",
         null,
         null,
         null
        ],
        [
         "9",
         "10",
         "5",
         "2015-07-31",
         "7185",
         "681",
         "1",
         "1",
         "0",
         "1",
         "a",
         "a",
         "3160.0",
         "9.0",
         "2009.0",
         "0",
         null,
         null,
         null
        ]
       ],
       "shape": {
        "columns": 18,
        "rows": 10
       }
      },
      "text/html": [
       "<div>\n",
       "<style scoped>\n",
       "    .dataframe tbody tr th:only-of-type {\n",
       "        vertical-align: middle;\n",
       "    }\n",
       "\n",
       "    .dataframe tbody tr th {\n",
       "        vertical-align: top;\n",
       "    }\n",
       "\n",
       "    .dataframe thead th {\n",
       "        text-align: right;\n",
       "    }\n",
       "</style>\n",
       "<table border=\"1\" class=\"dataframe\">\n",
       "  <thead>\n",
       "    <tr style=\"text-align: right;\">\n",
       "      <th></th>\n",
       "      <th>Store</th>\n",
       "      <th>DayOfWeek</th>\n",
       "      <th>Date</th>\n",
       "      <th>Sales</th>\n",
       "      <th>Customers</th>\n",
       "      <th>Open</th>\n",
       "      <th>Promo</th>\n",
       "      <th>StateHoliday</th>\n",
       "      <th>SchoolHoliday</th>\n",
       "      <th>StoreType</th>\n",
       "      <th>Assortment</th>\n",
       "      <th>CompetitionDistance</th>\n",
       "      <th>CompetitionOpenSinceMonth</th>\n",
       "      <th>CompetitionOpenSinceYear</th>\n",
       "      <th>Promo2</th>\n",
       "      <th>Promo2SinceWeek</th>\n",
       "      <th>Promo2SinceYear</th>\n",
       "      <th>PromoInterval</th>\n",
       "    </tr>\n",
       "  </thead>\n",
       "  <tbody>\n",
       "    <tr>\n",
       "      <th>0</th>\n",
       "      <td>1</td>\n",
       "      <td>5</td>\n",
       "      <td>2015-07-31</td>\n",
       "      <td>5263</td>\n",
       "      <td>555</td>\n",
       "      <td>1</td>\n",
       "      <td>1</td>\n",
       "      <td>0</td>\n",
       "      <td>1</td>\n",
       "      <td>c</td>\n",
       "      <td>a</td>\n",
       "      <td>1270.0</td>\n",
       "      <td>9.0</td>\n",
       "      <td>2008.0</td>\n",
       "      <td>0</td>\n",
       "      <td>NaN</td>\n",
       "      <td>NaN</td>\n",
       "      <td>NaN</td>\n",
       "    </tr>\n",
       "    <tr>\n",
       "      <th>1</th>\n",
       "      <td>2</td>\n",
       "      <td>5</td>\n",
       "      <td>2015-07-31</td>\n",
       "      <td>6064</td>\n",
       "      <td>625</td>\n",
       "      <td>1</td>\n",
       "      <td>1</td>\n",
       "      <td>0</td>\n",
       "      <td>1</td>\n",
       "      <td>a</td>\n",
       "      <td>a</td>\n",
       "      <td>570.0</td>\n",
       "      <td>11.0</td>\n",
       "      <td>2007.0</td>\n",
       "      <td>1</td>\n",
       "      <td>13.0</td>\n",
       "      <td>2010.0</td>\n",
       "      <td>Jan,Apr,Jul,Oct</td>\n",
       "    </tr>\n",
       "    <tr>\n",
       "      <th>2</th>\n",
       "      <td>3</td>\n",
       "      <td>5</td>\n",
       "      <td>2015-07-31</td>\n",
       "      <td>8314</td>\n",
       "      <td>821</td>\n",
       "      <td>1</td>\n",
       "      <td>1</td>\n",
       "      <td>0</td>\n",
       "      <td>1</td>\n",
       "      <td>a</td>\n",
       "      <td>a</td>\n",
       "      <td>14130.0</td>\n",
       "      <td>12.0</td>\n",
       "      <td>2006.0</td>\n",
       "      <td>1</td>\n",
       "      <td>14.0</td>\n",
       "      <td>2011.0</td>\n",
       "      <td>Jan,Apr,Jul,Oct</td>\n",
       "    </tr>\n",
       "    <tr>\n",
       "      <th>3</th>\n",
       "      <td>4</td>\n",
       "      <td>5</td>\n",
       "      <td>2015-07-31</td>\n",
       "      <td>13995</td>\n",
       "      <td>1498</td>\n",
       "      <td>1</td>\n",
       "      <td>1</td>\n",
       "      <td>0</td>\n",
       "      <td>1</td>\n",
       "      <td>c</td>\n",
       "      <td>c</td>\n",
       "      <td>620.0</td>\n",
       "      <td>9.0</td>\n",
       "      <td>2009.0</td>\n",
       "      <td>0</td>\n",
       "      <td>NaN</td>\n",
       "      <td>NaN</td>\n",
       "      <td>NaN</td>\n",
       "    </tr>\n",
       "    <tr>\n",
       "      <th>4</th>\n",
       "      <td>5</td>\n",
       "      <td>5</td>\n",
       "      <td>2015-07-31</td>\n",
       "      <td>4822</td>\n",
       "      <td>559</td>\n",
       "      <td>1</td>\n",
       "      <td>1</td>\n",
       "      <td>0</td>\n",
       "      <td>1</td>\n",
       "      <td>a</td>\n",
       "      <td>a</td>\n",
       "      <td>29910.0</td>\n",
       "      <td>4.0</td>\n",
       "      <td>2015.0</td>\n",
       "      <td>0</td>\n",
       "      <td>NaN</td>\n",
       "      <td>NaN</td>\n",
       "      <td>NaN</td>\n",
       "    </tr>\n",
       "    <tr>\n",
       "      <th>5</th>\n",
       "      <td>6</td>\n",
       "      <td>5</td>\n",
       "      <td>2015-07-31</td>\n",
       "      <td>5651</td>\n",
       "      <td>589</td>\n",
       "      <td>1</td>\n",
       "      <td>1</td>\n",
       "      <td>0</td>\n",
       "      <td>1</td>\n",
       "      <td>a</td>\n",
       "      <td>a</td>\n",
       "      <td>310.0</td>\n",
       "      <td>12.0</td>\n",
       "      <td>2013.0</td>\n",
       "      <td>0</td>\n",
       "      <td>NaN</td>\n",
       "      <td>NaN</td>\n",
       "      <td>NaN</td>\n",
       "    </tr>\n",
       "    <tr>\n",
       "      <th>6</th>\n",
       "      <td>7</td>\n",
       "      <td>5</td>\n",
       "      <td>2015-07-31</td>\n",
       "      <td>15344</td>\n",
       "      <td>1414</td>\n",
       "      <td>1</td>\n",
       "      <td>1</td>\n",
       "      <td>0</td>\n",
       "      <td>1</td>\n",
       "      <td>a</td>\n",
       "      <td>c</td>\n",
       "      <td>24000.0</td>\n",
       "      <td>4.0</td>\n",
       "      <td>2013.0</td>\n",
       "      <td>0</td>\n",
       "      <td>NaN</td>\n",
       "      <td>NaN</td>\n",
       "      <td>NaN</td>\n",
       "    </tr>\n",
       "    <tr>\n",
       "      <th>7</th>\n",
       "      <td>8</td>\n",
       "      <td>5</td>\n",
       "      <td>2015-07-31</td>\n",
       "      <td>8492</td>\n",
       "      <td>833</td>\n",
       "      <td>1</td>\n",
       "      <td>1</td>\n",
       "      <td>0</td>\n",
       "      <td>1</td>\n",
       "      <td>a</td>\n",
       "      <td>a</td>\n",
       "      <td>7520.0</td>\n",
       "      <td>10.0</td>\n",
       "      <td>2014.0</td>\n",
       "      <td>0</td>\n",
       "      <td>NaN</td>\n",
       "      <td>NaN</td>\n",
       "      <td>NaN</td>\n",
       "    </tr>\n",
       "    <tr>\n",
       "      <th>8</th>\n",
       "      <td>9</td>\n",
       "      <td>5</td>\n",
       "      <td>2015-07-31</td>\n",
       "      <td>8565</td>\n",
       "      <td>687</td>\n",
       "      <td>1</td>\n",
       "      <td>1</td>\n",
       "      <td>0</td>\n",
       "      <td>1</td>\n",
       "      <td>a</td>\n",
       "      <td>c</td>\n",
       "      <td>2030.0</td>\n",
       "      <td>8.0</td>\n",
       "      <td>2000.0</td>\n",
       "      <td>0</td>\n",
       "      <td>NaN</td>\n",
       "      <td>NaN</td>\n",
       "      <td>NaN</td>\n",
       "    </tr>\n",
       "    <tr>\n",
       "      <th>9</th>\n",
       "      <td>10</td>\n",
       "      <td>5</td>\n",
       "      <td>2015-07-31</td>\n",
       "      <td>7185</td>\n",
       "      <td>681</td>\n",
       "      <td>1</td>\n",
       "      <td>1</td>\n",
       "      <td>0</td>\n",
       "      <td>1</td>\n",
       "      <td>a</td>\n",
       "      <td>a</td>\n",
       "      <td>3160.0</td>\n",
       "      <td>9.0</td>\n",
       "      <td>2009.0</td>\n",
       "      <td>0</td>\n",
       "      <td>NaN</td>\n",
       "      <td>NaN</td>\n",
       "      <td>NaN</td>\n",
       "    </tr>\n",
       "  </tbody>\n",
       "</table>\n",
       "</div>"
      ],
      "text/plain": [
       "   Store  DayOfWeek        Date  Sales  Customers  Open  Promo StateHoliday  \\\n",
       "0      1          5  2015-07-31   5263        555     1      1            0   \n",
       "1      2          5  2015-07-31   6064        625     1      1            0   \n",
       "2      3          5  2015-07-31   8314        821     1      1            0   \n",
       "3      4          5  2015-07-31  13995       1498     1      1            0   \n",
       "4      5          5  2015-07-31   4822        559     1      1            0   \n",
       "5      6          5  2015-07-31   5651        589     1      1            0   \n",
       "6      7          5  2015-07-31  15344       1414     1      1            0   \n",
       "7      8          5  2015-07-31   8492        833     1      1            0   \n",
       "8      9          5  2015-07-31   8565        687     1      1            0   \n",
       "9     10          5  2015-07-31   7185        681     1      1            0   \n",
       "\n",
       "   SchoolHoliday StoreType Assortment  CompetitionDistance  \\\n",
       "0              1         c          a               1270.0   \n",
       "1              1         a          a                570.0   \n",
       "2              1         a          a              14130.0   \n",
       "3              1         c          c                620.0   \n",
       "4              1         a          a              29910.0   \n",
       "5              1         a          a                310.0   \n",
       "6              1         a          c              24000.0   \n",
       "7              1         a          a               7520.0   \n",
       "8              1         a          c               2030.0   \n",
       "9              1         a          a               3160.0   \n",
       "\n",
       "   CompetitionOpenSinceMonth  CompetitionOpenSinceYear  Promo2  \\\n",
       "0                        9.0                    2008.0       0   \n",
       "1                       11.0                    2007.0       1   \n",
       "2                       12.0                    2006.0       1   \n",
       "3                        9.0                    2009.0       0   \n",
       "4                        4.0                    2015.0       0   \n",
       "5                       12.0                    2013.0       0   \n",
       "6                        4.0                    2013.0       0   \n",
       "7                       10.0                    2014.0       0   \n",
       "8                        8.0                    2000.0       0   \n",
       "9                        9.0                    2009.0       0   \n",
       "\n",
       "   Promo2SinceWeek  Promo2SinceYear    PromoInterval  \n",
       "0              NaN              NaN              NaN  \n",
       "1             13.0           2010.0  Jan,Apr,Jul,Oct  \n",
       "2             14.0           2011.0  Jan,Apr,Jul,Oct  \n",
       "3              NaN              NaN              NaN  \n",
       "4              NaN              NaN              NaN  \n",
       "5              NaN              NaN              NaN  \n",
       "6              NaN              NaN              NaN  \n",
       "7              NaN              NaN              NaN  \n",
       "8              NaN              NaN              NaN  \n",
       "9              NaN              NaN              NaN  "
      ]
     },
     "execution_count": 43,
     "metadata": {},
     "output_type": "execute_result"
    }
   ],
   "source": [
    "df_sales_raw = pd.read_csv('../data/train.csv')\n",
    "df_store_raw = pd.read_csv('../data/store.csv')\n",
    "\n",
    "\n",
    "#merge\n",
    "df_row = pd.merge(df_sales_raw, df_store_raw, on='Store', how='left')\n",
    "\n",
    "\n",
    "\n",
    "df_row.head(10)\n",
    "\n"
   ]
  },
  {
   "cell_type": "markdown",
   "id": "2d446e0b",
   "metadata": {},
   "source": [
    "# 1.0 DESCRICAO DOS DADOS"
   ]
  },
  {
   "cell_type": "code",
   "execution_count": 44,
   "id": "b0344274",
   "metadata": {},
   "outputs": [],
   "source": [
    "df1 = df_row.copy()"
   ]
  },
  {
   "cell_type": "code",
   "execution_count": 45,
   "id": "2c17cf71",
   "metadata": {},
   "outputs": [
    {
     "data": {
      "text/plain": [
       "Index(['Store', 'DayOfWeek', 'Date', 'Sales', 'Customers', 'Open', 'Promo',\n",
       "       'StateHoliday', 'SchoolHoliday', 'StoreType', 'Assortment',\n",
       "       'CompetitionDistance', 'CompetitionOpenSinceMonth',\n",
       "       'CompetitionOpenSinceYear', 'Promo2', 'Promo2SinceWeek',\n",
       "       'Promo2SinceYear', 'PromoInterval'],\n",
       "      dtype='object')"
      ]
     },
     "execution_count": 45,
     "metadata": {},
     "output_type": "execute_result"
    }
   ],
   "source": [
    "df1.columns"
   ]
  },
  {
   "cell_type": "markdown",
   "id": "225e6492",
   "metadata": {},
   "source": [
    "## 1.1 Rename Columns"
   ]
  },
  {
   "cell_type": "code",
   "execution_count": 46,
   "id": "988d5479",
   "metadata": {},
   "outputs": [],
   "source": [
    "# rename columns    \n",
    "df1 = df_row.copy()\n",
    "# old column names\n",
    "cols_old = ['Store', 'DayOfWeek', 'Date', 'Sales', 'Customers', 'Open', 'Promo',\n",
    "       'StateHoliday', 'SchoolHoliday', 'StoreType', 'Assortment',\n",
    "       'CompetitionDistance', 'CompetitionOpenSinceMonth',\n",
    "       'CompetitionOpenSinceYear', 'Promo2', 'Promo2SinceWeek',\n",
    "       'Promo2SinceYear', 'PromoInterval']\n",
    "\n",
    "\n",
    "# rename columns\n",
    "anakecase = lambda x: inflection.underscore(x)\n",
    "cols_new = list(map(anakecase, cols_old))\n",
    "\n",
    "df1.columns = cols_new\n",
    "\n",
    "\n"
   ]
  },
  {
   "cell_type": "code",
   "execution_count": 6,
   "id": "8c526386",
   "metadata": {},
   "outputs": [
    {
     "data": {
      "text/plain": [
       "Index(['store', 'day_of_week', 'date', 'sales', 'customers', 'open', 'promo',\n",
       "       'state_holiday', 'school_holiday', 'store_type', 'assortment',\n",
       "       'competition_distance', 'competition_open_since_month',\n",
       "       'competition_open_since_year', 'promo2', 'promo2_since_week',\n",
       "       'promo2_since_year', 'promo_interval'],\n",
       "      dtype='object')"
      ]
     },
     "execution_count": 6,
     "metadata": {},
     "output_type": "execute_result"
    }
   ],
   "source": [
    "df1.columns"
   ]
  },
  {
   "cell_type": "code",
   "execution_count": null,
   "id": "908e87ee",
   "metadata": {},
   "outputs": [],
   "source": []
  },
  {
   "cell_type": "markdown",
   "id": "0f04174f",
   "metadata": {},
   "source": [
    "## 1.2 Data Dimension"
   ]
  },
  {
   "cell_type": "code",
   "execution_count": 47,
   "id": "106c4a40",
   "metadata": {},
   "outputs": [
    {
     "name": "stdout",
     "output_type": "stream",
     "text": [
      "number of rows: 1017209\n",
      "number of columns: 18\n"
     ]
    }
   ],
   "source": [
    "print('number of rows:', df1.shape[0])\n",
    "print('number of columns:', df1.shape[1])"
   ]
  },
  {
   "cell_type": "markdown",
   "id": "e94a38c9",
   "metadata": {},
   "source": [
    "## 1.3 Data types"
   ]
  },
  {
   "cell_type": "code",
   "execution_count": 48,
   "id": "b6feb276",
   "metadata": {},
   "outputs": [
    {
     "data": {
      "application/vnd.microsoft.datawrangler.viewer.v0+json": {
       "columns": [
        {
         "name": "index",
         "rawType": "object",
         "type": "string"
        },
        {
         "name": "0",
         "rawType": "object",
         "type": "unknown"
        }
       ],
       "ref": "7455bbe0-c896-4141-b67c-81361f805809",
       "rows": [
        [
         "store",
         "int64"
        ],
        [
         "day_of_week",
         "int64"
        ],
        [
         "date",
         "datetime64[ns]"
        ],
        [
         "sales",
         "int64"
        ],
        [
         "customers",
         "int64"
        ],
        [
         "open",
         "int64"
        ],
        [
         "promo",
         "int64"
        ],
        [
         "state_holiday",
         "object"
        ],
        [
         "school_holiday",
         "int64"
        ],
        [
         "store_type",
         "object"
        ],
        [
         "assortment",
         "object"
        ],
        [
         "competition_distance",
         "float64"
        ],
        [
         "competition_open_since_month",
         "float64"
        ],
        [
         "competition_open_since_year",
         "float64"
        ],
        [
         "promo2",
         "int64"
        ],
        [
         "promo2_since_week",
         "float64"
        ],
        [
         "promo2_since_year",
         "float64"
        ],
        [
         "promo_interval",
         "object"
        ]
       ],
       "shape": {
        "columns": 1,
        "rows": 18
       }
      },
      "text/plain": [
       "store                                    int64\n",
       "day_of_week                              int64\n",
       "date                            datetime64[ns]\n",
       "sales                                    int64\n",
       "customers                                int64\n",
       "open                                     int64\n",
       "promo                                    int64\n",
       "state_holiday                           object\n",
       "school_holiday                           int64\n",
       "store_type                              object\n",
       "assortment                              object\n",
       "competition_distance                   float64\n",
       "competition_open_since_month           float64\n",
       "competition_open_since_year            float64\n",
       "promo2                                   int64\n",
       "promo2_since_week                      float64\n",
       "promo2_since_year                      float64\n",
       "promo_interval                          object\n",
       "dtype: object"
      ]
     },
     "execution_count": 48,
     "metadata": {},
     "output_type": "execute_result"
    }
   ],
   "source": [
    "#alterar objeto para data \n",
    "if 'date' in df1.columns:\n",
    "    df1['date'] = pd.to_datetime(df1['date'])\n",
    "\n",
    "df1.dtypes"
   ]
  },
  {
   "cell_type": "markdown",
   "id": "00ec3d0f",
   "metadata": {},
   "source": [
    "## 1.4 Check Na"
   ]
  },
  {
   "cell_type": "code",
   "execution_count": 49,
   "id": "9ad4726c",
   "metadata": {},
   "outputs": [
    {
     "data": {
      "application/vnd.microsoft.datawrangler.viewer.v0+json": {
       "columns": [
        {
         "name": "index",
         "rawType": "object",
         "type": "string"
        },
        {
         "name": "0",
         "rawType": "int64",
         "type": "integer"
        }
       ],
       "ref": "ccf4c426-9fa4-4380-a509-acd508789d15",
       "rows": [
        [
         "store",
         "0"
        ],
        [
         "day_of_week",
         "0"
        ],
        [
         "date",
         "0"
        ],
        [
         "sales",
         "0"
        ],
        [
         "customers",
         "0"
        ],
        [
         "open",
         "0"
        ],
        [
         "promo",
         "0"
        ],
        [
         "state_holiday",
         "0"
        ],
        [
         "school_holiday",
         "0"
        ],
        [
         "store_type",
         "0"
        ],
        [
         "assortment",
         "0"
        ],
        [
         "competition_distance",
         "2642"
        ],
        [
         "competition_open_since_month",
         "323348"
        ],
        [
         "competition_open_since_year",
         "323348"
        ],
        [
         "promo2",
         "0"
        ],
        [
         "promo2_since_week",
         "508031"
        ],
        [
         "promo2_since_year",
         "508031"
        ],
        [
         "promo_interval",
         "508031"
        ]
       ],
       "shape": {
        "columns": 1,
        "rows": 18
       }
      },
      "text/plain": [
       "store                                0\n",
       "day_of_week                          0\n",
       "date                                 0\n",
       "sales                                0\n",
       "customers                            0\n",
       "open                                 0\n",
       "promo                                0\n",
       "state_holiday                        0\n",
       "school_holiday                       0\n",
       "store_type                           0\n",
       "assortment                           0\n",
       "competition_distance              2642\n",
       "competition_open_since_month    323348\n",
       "competition_open_since_year     323348\n",
       "promo2                               0\n",
       "promo2_since_week               508031\n",
       "promo2_since_year               508031\n",
       "promo_interval                  508031\n",
       "dtype: int64"
      ]
     },
     "execution_count": 49,
     "metadata": {},
     "output_type": "execute_result"
    }
   ],
   "source": [
    "df1.isna().sum()"
   ]
  },
  {
   "cell_type": "markdown",
   "id": "4bcd54ea",
   "metadata": {},
   "source": [
    "## 1.5 fillout\n"
   ]
  },
  {
   "cell_type": "code",
   "execution_count": 50,
   "id": "3f8134e3",
   "metadata": {},
   "outputs": [
    {
     "name": "stderr",
     "output_type": "stream",
     "text": [
      "C:\\Users\\d\\AppData\\Local\\Temp\\ipykernel_15864\\360667503.py:27: FutureWarning: A value is trying to be set on a copy of a DataFrame or Series through chained assignment using an inplace method.\n",
      "The behavior will change in pandas 3.0. This inplace method will never work because the intermediate object on which we are setting values always behaves as a copy.\n",
      "\n",
      "For example, when doing 'df[col].method(value, inplace=True)', try using 'df.method({col: value}, inplace=True)' or df[col] = df[col].method(value) instead, to perform the operation inplace on the original object.\n",
      "\n",
      "\n",
      "  df1['promo_interval'].fillna(0, inplace=True)\n"
     ]
    },
    {
     "data": {
      "application/vnd.microsoft.datawrangler.viewer.v0+json": {
       "columns": [
        {
         "name": "index",
         "rawType": "object",
         "type": "string"
        },
        {
         "name": "0",
         "rawType": "int64",
         "type": "integer"
        }
       ],
       "ref": "1629fcbb-9b25-4430-b2f6-356f1bd1ffa9",
       "rows": [
        [
         "store",
         "0"
        ],
        [
         "day_of_week",
         "0"
        ],
        [
         "date",
         "0"
        ],
        [
         "sales",
         "0"
        ],
        [
         "customers",
         "0"
        ],
        [
         "open",
         "0"
        ],
        [
         "promo",
         "0"
        ],
        [
         "state_holiday",
         "0"
        ],
        [
         "school_holiday",
         "0"
        ],
        [
         "store_type",
         "0"
        ],
        [
         "assortment",
         "0"
        ],
        [
         "competition_distance",
         "0"
        ],
        [
         "competition_open_since_month",
         "0"
        ],
        [
         "competition_open_since_year",
         "0"
        ],
        [
         "promo2",
         "0"
        ],
        [
         "promo2_since_week",
         "0"
        ],
        [
         "promo2_since_year",
         "0"
        ],
        [
         "promo_interval",
         "0"
        ],
        [
         "month_map",
         "0"
        ]
       ],
       "shape": {
        "columns": 1,
        "rows": 19
       }
      },
      "text/plain": [
       "store                           0\n",
       "day_of_week                     0\n",
       "date                            0\n",
       "sales                           0\n",
       "customers                       0\n",
       "open                            0\n",
       "promo                           0\n",
       "state_holiday                   0\n",
       "school_holiday                  0\n",
       "store_type                      0\n",
       "assortment                      0\n",
       "competition_distance            0\n",
       "competition_open_since_month    0\n",
       "competition_open_since_year     0\n",
       "promo2                          0\n",
       "promo2_since_week               0\n",
       "promo2_since_year               0\n",
       "promo_interval                  0\n",
       "month_map                       0\n",
       "dtype: int64"
      ]
     },
     "execution_count": 50,
     "metadata": {},
     "output_type": "execute_result"
    }
   ],
   "source": [
    "# Tratamento eficiente de competition_distance\n",
    "if 'competition_distance' in df1.columns:\n",
    "    df1['competition_distance'] = df1['competition_distance'].fillna(200000).clip(upper=200000)\n",
    "if 'competition_open_since_month' in df1.columns and 'date' in df1.columns:\n",
    "    df1['competition_open_since_month'] = df1.apply(lambda x: x['date'].month if not math.isnan(x['competition_open_since_month']) else 0, axis=1)\n",
    "if 'competition_open_since_year' in df1.columns and 'date' in df1.columns:\n",
    "    df1['competition_open_since_year'] = df1.apply(lambda x: x['date'].year if not math.isnan(x['competition_open_since_month']) else 0, axis=1)\n",
    "if 'promo2_since_week' in df1.columns and 'date' in df1.columns:\n",
    "    df1['promo2_since_week'] = df1.apply(lambda x: x['date'].week if not math.isnan(x['promo2_since_week']) else 0, axis=1)\n",
    "if 'promo2_since_year' in df1.columns and 'date' in df1.columns:\n",
    "    df1['promo2_since_year'] = df1.apply(lambda x: x['date'].year if not math.isnan(x['promo2_since_year']) else 0, axis=1)\n",
    "month_map = {\n",
    "    1: 'Jan',\n",
    "    2: 'Feb',\n",
    "    3: 'Mar',\n",
    "    4: 'Apr',\n",
    "    5: 'May',\n",
    "    6: 'Jun',\n",
    "    7: 'Jul',\n",
    "    8: 'Aug',\n",
    "    9: 'Sep',\n",
    "    10: 'Oct',\n",
    "    11: 'Nov',\n",
    "    12: 'Dec'\n",
    "}\n",
    "if 'promo_interval' in df1.columns:\n",
    "    df1['promo_interval'].fillna(0, inplace=True)\n",
    "if 'date' in df1.columns:\n",
    "    df1['month_map'] = df1['date'].dt.month.map(month_map)\n",
    "if 'promo_interval' in df1.columns:\n",
    "    df1['promo_interval'] = df1.apply(lambda x: 0 if x['promo_interval'] == 0 else 1 if x['promo_interval'] == 1 else 2 if x['promo_interval'] == 2 else 3 if x['promo_interval'] == 3 else 4 if x['promo_interval'] == 4 else 5 if x['promo_interval'] == 5 else 6 if x['promo_interval'] == 6 else 7 if x['promo_interval'] == 7 else 8 if x['promo_interval'] == 8 else 9 if x['promo_interval'] == 9 else 10 if x['promo_interval'] == 10 else 11 if x['promo_interval'] == 11 else 12 if x['promo_interval'] == 12 else '0', axis=1)\n",
    "df1.isna().sum()"
   ]
  },
  {
   "cell_type": "markdown",
   "id": "bda231eb",
   "metadata": {},
   "source": [
    "## 1.6 Change types "
   ]
  },
  {
   "cell_type": "markdown",
   "id": "855dc0ed",
   "metadata": {},
   "source": [
    "## 1.7 Discriptive Statistics"
   ]
  },
  {
   "cell_type": "code",
   "execution_count": 51,
   "id": "74a1b713",
   "metadata": {},
   "outputs": [
    {
     "data": {
      "application/vnd.microsoft.datawrangler.viewer.v0+json": {
       "columns": [
        {
         "name": "index",
         "rawType": "object",
         "type": "string"
        },
        {
         "name": "mean",
         "rawType": "float64",
         "type": "float"
        },
        {
         "name": "median",
         "rawType": "float64",
         "type": "float"
        },
        {
         "name": "std",
         "rawType": "float64",
         "type": "float"
        },
        {
         "name": "min",
         "rawType": "float64",
         "type": "float"
        },
        {
         "name": "max",
         "rawType": "float64",
         "type": "float"
        },
        {
         "name": "range",
         "rawType": "float64",
         "type": "float"
        },
        {
         "name": "skewness",
         "rawType": "float64",
         "type": "float"
        },
        {
         "name": "kurtosis",
         "rawType": "float64",
         "type": "float"
        }
       ],
       "ref": "f05edea5-7174-4bd1-bed7-224753cddd8f",
       "rows": [
        [
         "store",
         "558.4297268309659",
         "558.0",
         "321.9084929120918",
         "1.0",
         "1115.0",
         "1114.0",
         "-0.0009548799809840578",
         "-1.200523740729823"
        ],
        [
         "day_of_week",
         "3.998340557348588",
         "4.0",
         "1.9973899831405972",
         "1.0",
         "7.0",
         "6.0",
         "0.0015928228042007841",
         "-1.2468733392506068"
        ],
        [
         "sales",
         "5773.818972305593",
         "5744.0",
         "3849.9242828374636",
         "0.0",
         "41551.0",
         "41551.0",
         "0.6414596158103795",
         "1.7783747472372804"
        ],
        [
         "customers",
         "633.1459464082602",
         "609.0",
         "464.4115056091358",
         "0.0",
         "7388.0",
         "7388.0",
         "1.5986502899508923",
         "7.091772717755949"
        ],
        [
         "open",
         "0.8301066939045958",
         "1.0",
         "0.3755390401001972",
         "0.0",
         "1.0",
         "1.0",
         "-1.758044546316302",
         "1.0907227713687773"
        ],
        [
         "promo",
         "0.3815145166824124",
         "0.0",
         "0.485758366107057",
         "0.0",
         "1.0",
         "1.0",
         "0.4878378482245111",
         "-1.7620176982598017"
        ],
        [
         "school_holiday",
         "0.17864666946517382",
         "0.0",
         "0.383056179892943",
         "0.0",
         "1.0",
         "1.0",
         "1.6778416393157316",
         "0.815154169344845"
        ],
        [
         "competition_distance",
         "5935.442676971989",
         "2330.0",
         "12547.646828520044",
         "20.0",
         "200000.0",
         "199980.0",
         "10.242343612769435",
         "147.78971152245433"
        ],
        [
         "competition_open_since_month",
         "3.9867913083741886",
         "3.0",
         "3.8666882451488744",
         "0.0",
         "12.0",
         "12.0",
         "0.5739707116291021",
         "-0.9357986282448025"
        ],
        [
         "competition_open_since_year",
         "2013.8322920855005",
         "2014.0",
         "0.7773955763738967",
         "2013.0",
         "2015.0",
         "2.0",
         "0.3002654564131023",
         "-1.290603358250168"
        ],
        [
         "promo2",
         "0.5005637976069814",
         "1.0",
         "0.4999996821321573",
         "0.0",
         "1.0",
         "1.0",
         "-0.0022551951871962106",
         "-1.9999988464248226"
        ],
        [
         "promo2_since_week",
         "11.644146876403964",
         "1.0",
         "15.436413399476965",
         "0.0",
         "52.0",
         "52.0",
         "1.1011567355822607",
         "-0.06936066413220132"
        ],
        [
         "promo2_since_year",
         "1008.0496033755109",
         "2013.0",
         "1006.9137251154681",
         "0.0",
         "2015.0",
         "2015.0",
         "-0.0022542803321535746",
         "-1.9999976305415188"
        ]
       ],
       "shape": {
        "columns": 8,
        "rows": 13
       }
      },
      "text/html": [
       "<div>\n",
       "<style scoped>\n",
       "    .dataframe tbody tr th:only-of-type {\n",
       "        vertical-align: middle;\n",
       "    }\n",
       "\n",
       "    .dataframe tbody tr th {\n",
       "        vertical-align: top;\n",
       "    }\n",
       "\n",
       "    .dataframe thead th {\n",
       "        text-align: right;\n",
       "    }\n",
       "</style>\n",
       "<table border=\"1\" class=\"dataframe\">\n",
       "  <thead>\n",
       "    <tr style=\"text-align: right;\">\n",
       "      <th></th>\n",
       "      <th>mean</th>\n",
       "      <th>median</th>\n",
       "      <th>std</th>\n",
       "      <th>min</th>\n",
       "      <th>max</th>\n",
       "      <th>range</th>\n",
       "      <th>skewness</th>\n",
       "      <th>kurtosis</th>\n",
       "    </tr>\n",
       "  </thead>\n",
       "  <tbody>\n",
       "    <tr>\n",
       "      <th>store</th>\n",
       "      <td>558.429727</td>\n",
       "      <td>558.0</td>\n",
       "      <td>321.908493</td>\n",
       "      <td>1.0</td>\n",
       "      <td>1115.0</td>\n",
       "      <td>1114.0</td>\n",
       "      <td>-0.000955</td>\n",
       "      <td>-1.200524</td>\n",
       "    </tr>\n",
       "    <tr>\n",
       "      <th>day_of_week</th>\n",
       "      <td>3.998341</td>\n",
       "      <td>4.0</td>\n",
       "      <td>1.997390</td>\n",
       "      <td>1.0</td>\n",
       "      <td>7.0</td>\n",
       "      <td>6.0</td>\n",
       "      <td>0.001593</td>\n",
       "      <td>-1.246873</td>\n",
       "    </tr>\n",
       "    <tr>\n",
       "      <th>sales</th>\n",
       "      <td>5773.818972</td>\n",
       "      <td>5744.0</td>\n",
       "      <td>3849.924283</td>\n",
       "      <td>0.0</td>\n",
       "      <td>41551.0</td>\n",
       "      <td>41551.0</td>\n",
       "      <td>0.641460</td>\n",
       "      <td>1.778375</td>\n",
       "    </tr>\n",
       "    <tr>\n",
       "      <th>customers</th>\n",
       "      <td>633.145946</td>\n",
       "      <td>609.0</td>\n",
       "      <td>464.411506</td>\n",
       "      <td>0.0</td>\n",
       "      <td>7388.0</td>\n",
       "      <td>7388.0</td>\n",
       "      <td>1.598650</td>\n",
       "      <td>7.091773</td>\n",
       "    </tr>\n",
       "    <tr>\n",
       "      <th>open</th>\n",
       "      <td>0.830107</td>\n",
       "      <td>1.0</td>\n",
       "      <td>0.375539</td>\n",
       "      <td>0.0</td>\n",
       "      <td>1.0</td>\n",
       "      <td>1.0</td>\n",
       "      <td>-1.758045</td>\n",
       "      <td>1.090723</td>\n",
       "    </tr>\n",
       "    <tr>\n",
       "      <th>promo</th>\n",
       "      <td>0.381515</td>\n",
       "      <td>0.0</td>\n",
       "      <td>0.485758</td>\n",
       "      <td>0.0</td>\n",
       "      <td>1.0</td>\n",
       "      <td>1.0</td>\n",
       "      <td>0.487838</td>\n",
       "      <td>-1.762018</td>\n",
       "    </tr>\n",
       "    <tr>\n",
       "      <th>school_holiday</th>\n",
       "      <td>0.178647</td>\n",
       "      <td>0.0</td>\n",
       "      <td>0.383056</td>\n",
       "      <td>0.0</td>\n",
       "      <td>1.0</td>\n",
       "      <td>1.0</td>\n",
       "      <td>1.677842</td>\n",
       "      <td>0.815154</td>\n",
       "    </tr>\n",
       "    <tr>\n",
       "      <th>competition_distance</th>\n",
       "      <td>5935.442677</td>\n",
       "      <td>2330.0</td>\n",
       "      <td>12547.646829</td>\n",
       "      <td>20.0</td>\n",
       "      <td>200000.0</td>\n",
       "      <td>199980.0</td>\n",
       "      <td>10.242344</td>\n",
       "      <td>147.789712</td>\n",
       "    </tr>\n",
       "    <tr>\n",
       "      <th>competition_open_since_month</th>\n",
       "      <td>3.986791</td>\n",
       "      <td>3.0</td>\n",
       "      <td>3.866688</td>\n",
       "      <td>0.0</td>\n",
       "      <td>12.0</td>\n",
       "      <td>12.0</td>\n",
       "      <td>0.573971</td>\n",
       "      <td>-0.935799</td>\n",
       "    </tr>\n",
       "    <tr>\n",
       "      <th>competition_open_since_year</th>\n",
       "      <td>2013.832292</td>\n",
       "      <td>2014.0</td>\n",
       "      <td>0.777396</td>\n",
       "      <td>2013.0</td>\n",
       "      <td>2015.0</td>\n",
       "      <td>2.0</td>\n",
       "      <td>0.300265</td>\n",
       "      <td>-1.290603</td>\n",
       "    </tr>\n",
       "    <tr>\n",
       "      <th>promo2</th>\n",
       "      <td>0.500564</td>\n",
       "      <td>1.0</td>\n",
       "      <td>0.500000</td>\n",
       "      <td>0.0</td>\n",
       "      <td>1.0</td>\n",
       "      <td>1.0</td>\n",
       "      <td>-0.002255</td>\n",
       "      <td>-1.999999</td>\n",
       "    </tr>\n",
       "    <tr>\n",
       "      <th>promo2_since_week</th>\n",
       "      <td>11.644147</td>\n",
       "      <td>1.0</td>\n",
       "      <td>15.436413</td>\n",
       "      <td>0.0</td>\n",
       "      <td>52.0</td>\n",
       "      <td>52.0</td>\n",
       "      <td>1.101157</td>\n",
       "      <td>-0.069361</td>\n",
       "    </tr>\n",
       "    <tr>\n",
       "      <th>promo2_since_year</th>\n",
       "      <td>1008.049603</td>\n",
       "      <td>2013.0</td>\n",
       "      <td>1006.913725</td>\n",
       "      <td>0.0</td>\n",
       "      <td>2015.0</td>\n",
       "      <td>2015.0</td>\n",
       "      <td>-0.002254</td>\n",
       "      <td>-1.999998</td>\n",
       "    </tr>\n",
       "  </tbody>\n",
       "</table>\n",
       "</div>"
      ],
      "text/plain": [
       "                                     mean  median           std     min  \\\n",
       "store                          558.429727   558.0    321.908493     1.0   \n",
       "day_of_week                      3.998341     4.0      1.997390     1.0   \n",
       "sales                         5773.818972  5744.0   3849.924283     0.0   \n",
       "customers                      633.145946   609.0    464.411506     0.0   \n",
       "open                             0.830107     1.0      0.375539     0.0   \n",
       "promo                            0.381515     0.0      0.485758     0.0   \n",
       "school_holiday                   0.178647     0.0      0.383056     0.0   \n",
       "competition_distance          5935.442677  2330.0  12547.646829    20.0   \n",
       "competition_open_since_month     3.986791     3.0      3.866688     0.0   \n",
       "competition_open_since_year   2013.832292  2014.0      0.777396  2013.0   \n",
       "promo2                           0.500564     1.0      0.500000     0.0   \n",
       "promo2_since_week               11.644147     1.0     15.436413     0.0   \n",
       "promo2_since_year             1008.049603  2013.0   1006.913725     0.0   \n",
       "\n",
       "                                   max     range   skewness    kurtosis  \n",
       "store                           1115.0    1114.0  -0.000955   -1.200524  \n",
       "day_of_week                        7.0       6.0   0.001593   -1.246873  \n",
       "sales                          41551.0   41551.0   0.641460    1.778375  \n",
       "customers                       7388.0    7388.0   1.598650    7.091773  \n",
       "open                               1.0       1.0  -1.758045    1.090723  \n",
       "promo                              1.0       1.0   0.487838   -1.762018  \n",
       "school_holiday                     1.0       1.0   1.677842    0.815154  \n",
       "competition_distance          200000.0  199980.0  10.242344  147.789712  \n",
       "competition_open_since_month      12.0      12.0   0.573971   -0.935799  \n",
       "competition_open_since_year     2015.0       2.0   0.300265   -1.290603  \n",
       "promo2                             1.0       1.0  -0.002255   -1.999999  \n",
       "promo2_since_week                 52.0      52.0   1.101157   -0.069361  \n",
       "promo2_since_year               2015.0    2015.0  -0.002254   -1.999998  "
      ]
     },
     "execution_count": 51,
     "metadata": {},
     "output_type": "execute_result"
    }
   ],
   "source": [
    "# Selecionar apenas atributos numéricos para estatísticas descritivas\n",
    "num_attributes = df1.select_dtypes(include=['int64', 'float64'])\n",
    "cat_attributes = df1.select_dtypes(exclude=['int64', 'float64', 'datetime64[ns]'])\n",
    "\n",
    "# Central tendency - mean, median\n",
    "ct1 = pd.DataFrame(num_attributes.apply(np.mean)).T\n",
    "ct2 = pd.DataFrame(num_attributes.apply(np.median)).T\n",
    "\n",
    "# dispersion - std, min, max, range, skewness, kurtosis\n",
    "\n",
    "d1 = pd.DataFrame(num_attributes.apply(np.std)).T\n",
    "d2 = pd.DataFrame(num_attributes.apply(np.min)).T\n",
    "d3 = pd.DataFrame(num_attributes.apply(np.max)).T\n",
    "d4 = pd.DataFrame(num_attributes.apply(lambda x: x.max() - x.min())).T\n",
    "d5 = pd.DataFrame(num_attributes.apply(lambda x: x.skew())).T\n",
    "d6 = pd.DataFrame(num_attributes.apply(lambda x: x.kurtosis())).T\n",
    "\n",
    "# concatenace\n",
    "\n",
    "m = pd.concat([ct1, ct2, d1, d2, d3, d4, d5, d6])\n",
    "\n",
    "# Transpor antes de renomear colunas\n",
    "m = m.T\n",
    "m.columns = ['mean', 'median', 'std', 'min', 'max', 'range', 'skewness', 'kurtosis']\n",
    "\n",
    "m"
   ]
  },
  {
   "cell_type": "code",
   "execution_count": 52,
   "id": "56c5f873",
   "metadata": {},
   "outputs": [
    {
     "data": {
      "text/plain": [
       "<seaborn.axisgrid.FacetGrid at 0x1daa28dc230>"
      ]
     },
     "execution_count": 52,
     "metadata": {},
     "output_type": "execute_result"
    },
    {
     "data": {
      "image/png": "[encoded data removed]",
      "text/plain": [
       "<Figure size 500x500 with 1 Axes>"
      ]
     },
     "metadata": {},
     "output_type": "display_data"
    }
   ],
   "source": [
    "sns.displot(df1['competition_distance']) "
   ]
  },
  {
   "cell_type": "code",
   "execution_count": 53,
   "id": "97d32f30",
   "metadata": {},
   "outputs": [
    {
     "data": {
      "application/vnd.microsoft.datawrangler.viewer.v0+json": {
       "columns": [
        {
         "name": "index",
         "rawType": "object",
         "type": "string"
        },
        {
         "name": "0",
         "rawType": "int64",
         "type": "integer"
        }
       ],
       "ref": "00022a20-90dd-4cb3-b809-d60daecd7fae",
       "rows": [
        [
         "state_holiday",
         "5"
        ],
        [
         "store_type",
         "4"
        ],
        [
         "assortment",
         "3"
        ],
        [
         "promo_interval",
         "2"
        ],
        [
         "month_map",
         "12"
        ]
       ],
       "shape": {
        "columns": 1,
        "rows": 5
       }
      },
      "text/plain": [
       "state_holiday      5\n",
       "store_type         4\n",
       "assortment         3\n",
       "promo_interval     2\n",
       "month_map         12\n",
       "dtype: int64"
      ]
     },
     "execution_count": 53,
     "metadata": {},
     "output_type": "execute_result"
    }
   ],
   "source": [
    "cat_attributes = df1.select_dtypes(exclude=['int64', 'float64', 'datetime64[ns]'])\n",
    "cat_attributes.apply(lambda x: x.unique().shape[0])"
   ]
  },
  {
   "cell_type": "code",
   "execution_count": 54,
   "id": "499c765c",
   "metadata": {},
   "outputs": [
    {
     "data": {
      "text/plain": [
       "<Axes: xlabel='state_holiday', ylabel='sales'>"
      ]
     },
     "execution_count": 54,
     "metadata": {},
     "output_type": "execute_result"
    },
    {
     "data": {
      "image/png": "[encoded data removed]",
      "text/plain": [
       "<Figure size 640x480 with 1 Axes>"
      ]
     },
     "metadata": {},
     "output_type": "display_data"
    }
   ],
   "source": [
    "aux1 = df1[(df1['state_holiday'] != '0') & (df1['sales'] > 0)]\n",
    "sns.boxplot(x='state_holiday', y='sales', data=aux1)"
   ]
  },
  {
   "cell_type": "markdown",
   "id": "7adec0c6",
   "metadata": {},
   "source": [
    "# 2.0 Criancao das hipoteses"
   ]
  },
  {
   "cell_type": "code",
   "execution_count": 55,
   "id": "9b56c5ff",
   "metadata": {},
   "outputs": [],
   "source": [
    "df2 = df1.copy()"
   ]
  },
  {
   "cell_type": "markdown",
   "id": "4d3cfafe",
   "metadata": {},
   "source": [
    "### 2.1 hipoteses da loja"
   ]
  },
  {
   "cell_type": "markdown",
   "id": "5f82e39f",
   "metadata": {},
   "source": [
    "\n",
    "**1.** Lojas com número maior de funcionários deveriam vender mais.\n",
    "\n",
    "**2.** Lojas com maior capacidade de estoque deveriam vender mais.\n",
    "\n",
    "**3.** Lojas com maior porte deveriam vender mais.\n",
    "\n",
    "**4.** Lojas com maior sortimentos deveriam vender mais.\n",
    "\n",
    "**5.** Lojas com competidores mais próximos deveriam vender menos.\n",
    "\n",
    "**6.** Lojas com competidores à mais tempo deveriam vendem mais.\n",
    "\n"
   ]
  },
  {
   "cell_type": "markdown",
   "id": "f1e33ffa",
   "metadata": {},
   "source": [
    "### 2.2 hipoteses do produto"
   ]
  },
  {
   "cell_type": "markdown",
   "id": "7487f818",
   "metadata": {},
   "source": [
    "\n",
    "**1.** Lojas que investem mais em Marketing deveriam vender mais.\n",
    "\n",
    "**2.** Lojas com maior exposição de produto deveriam vender mais.\n",
    "\n",
    "**3.** Lojas com produtos com preço menor deveriam vender mais.\n",
    "\n",
    "**4.** Lojas com promoções mais agressivas (descontos maiores), deveriam vender mais.\n",
    "\n",
    "**5.** Lojas com promoções ativas por mais tempo deveriam vender mais.\n",
    "\n",
    "**6.** Lojas com mais dias de promoção deveriam vender mais.\n",
    "\n",
    "**7.** Lojas com mais promoções consecutivas deveriam vender mais.\n"
   ]
  },
  {
   "cell_type": "markdown",
   "id": "7aacb2f3",
   "metadata": {},
   "source": [
    "### 2.3 hipoteses do tempo"
   ]
  },
  {
   "cell_type": "markdown",
   "id": "94547a09",
   "metadata": {},
   "source": [
    "\n",
    "**1.** Lojas abertas durante o feriado de Natal deveriam vender mais.\n",
    "\n",
    "**2.** Lojas deveriam vender mais ao longo dos anos.\n",
    "\n",
    "**3.** Lojas deveriam vender mais no segundo semestre do ano.\n",
    "\n",
    "**4.** Lojas deveriam vender mais depois do dia 10 de cada mês.\n",
    "\n",
    "**5.** Lojas deveriam vender menos aos finais de semana.\n",
    "\n",
    "**6.** Lojas deveriam vender menos durante os feriados escolares."
   ]
  },
  {
   "cell_type": "markdown",
   "id": "8f82ad02",
   "metadata": {},
   "source": [
    "## 2.1 feature engineering"
   ]
  },
  {
   "cell_type": "code",
   "execution_count": 56,
   "id": "55ad711b",
   "metadata": {},
   "outputs": [],
   "source": [
    "# year\n",
    "df2['year'] = df2['date'].dt.year\n",
    "# month\n",
    "df2['month'] = df2['date'].dt.month\n",
    "# day\n",
    "df2['day'] = df2['date'].dt.day\n",
    "# week of year\n",
    "df2['week_of_year'] = df2['date'].dt.isocalendar().week\n",
    "# year week\n",
    "df2['year_week'] = df2['date'].dt.strftime('%Y-%W')\n",
    "\n",
    "# competition since (robusto)\n",
    "def get_competition_since(row):\n",
    "    year = int(row['competition_open_since_year']) if not pd.isna(row['competition_open_since_year']) and row['competition_open_since_year'] > 0 else row['date'].year\n",
    "    month = int(row['competition_open_since_month']) if not pd.isna(row['competition_open_since_month']) and row['competition_open_since_month'] > 0 else row['date'].month\n",
    "    day = 1\n",
    "    return pd.Timestamp(year=year, month=month, day=day)\n",
    "df2['competition_since'] = df2.apply(get_competition_since, axis=1)\n",
    "df2['competition_time_months'] = ((df2['date'] - df2['competition_since']) / np.timedelta64(30, 'D')).astype(int)\n",
    "# promo since (robusto)\n",
    "def get_promo_since(row):\n",
    "    try:\n",
    "        year = int(row['promo2_since_year'])\n",
    "        week = int(row['promo2_since_week'])\n",
    "        if year > 0 and week > 0:\n",
    "            return pd.to_datetime(f'{year}-W{week}-1', format='%Y-W%W-%w') - pd.Timedelta(days=7)\n",
    "        else:\n",
    "            return row['date']\n",
    "    except:\n",
    "        return row['date']\n",
    "df2['promo_since'] = df2.apply(get_promo_since, axis=1)\n",
    "df2['promo_time_weeks'] = ((df2['date'] - df2['promo_since'])/np.timedelta64(1, 'W')).astype(int)\n",
    "# assortment\n",
    "df2['assortment'] = df2['assortment'].apply(lambda x: 'basic' if x == 'a' else 'extra' if x == 'b' else 'extended')\n",
    "# state holiday\n",
    "df2['state_holiday'] = df2['state_holiday'].apply(lambda x: 'public_holiday' if x == 'a' else 'easter_holiday' if x == 'b' else 'christmas' if x == 'c' else 'regular_day')"
   ]
  },
  {
   "cell_type": "code",
   "execution_count": 57,
   "id": "6fe39c04",
   "metadata": {},
   "outputs": [
    {
     "data": {
      "application/vnd.microsoft.datawrangler.viewer.v0+json": {
       "columns": [
        {
         "name": "index",
         "rawType": "object",
         "type": "string"
        },
        {
         "name": "0",
         "rawType": "object",
         "type": "unknown"
        },
        {
         "name": "1",
         "rawType": "object",
         "type": "unknown"
        },
        {
         "name": "2",
         "rawType": "object",
         "type": "unknown"
        },
        {
         "name": "3",
         "rawType": "object",
         "type": "unknown"
        },
        {
         "name": "4",
         "rawType": "object",
         "type": "unknown"
        }
       ],
       "ref": "1acdab77-5519-4cb0-b407-3406a4dca775",
       "rows": [
        [
         "store",
         "1",
         "2",
         "3",
         "4",
         "5"
        ],
        [
         "day_of_week",
         "5",
         "5",
         "5",
         "5",
         "5"
        ],
        [
         "date",
         "2015-07-31 00:00:00",
         "2015-07-31 00:00:00",
         "2015-07-31 00:00:00",
         "2015-07-31 00:00:00",
         "2015-07-31 00:00:00"
        ],
        [
         "sales",
         "5263",
         "6064",
         "8314",
         "13995",
         "4822"
        ],
        [
         "customers",
         "555",
         "625",
         "821",
         "1498",
         "559"
        ],
        [
         "open",
         "1",
         "1",
         "1",
         "1",
         "1"
        ],
        [
         "promo",
         "1",
         "1",
         "1",
         "1",
         "1"
        ],
        [
         "state_holiday",
         "regular_day",
         "regular_day",
         "regular_day",
         "regular_day",
         "regular_day"
        ],
        [
         "school_holiday",
         "1",
         "1",
         "1",
         "1",
         "1"
        ],
        [
         "store_type",
         "c",
         "a",
         "a",
         "c",
         "a"
        ],
        [
         "assortment",
         "basic",
         "basic",
         "basic",
         "extended",
         "basic"
        ],
        [
         "competition_distance",
         "1270.0",
         "570.0",
         "14130.0",
         "620.0",
         "29910.0"
        ],
        [
         "competition_open_since_month",
         "7",
         "7",
         "7",
         "7",
         "7"
        ],
        [
         "competition_open_since_year",
         "2015",
         "2015",
         "2015",
         "2015",
         "2015"
        ],
        [
         "promo2",
         "0",
         "1",
         "1",
         "0",
         "0"
        ],
        [
         "promo2_since_week",
         "0",
         "31",
         "31",
         "0",
         "0"
        ],
        [
         "promo2_since_year",
         "0",
         "2015",
         "2015",
         "0",
         "0"
        ],
        [
         "promo_interval",
         "0",
         "0",
         "0",
         "0",
         "0"
        ],
        [
         "month_map",
         "Jul",
         "Jul",
         "Jul",
         "Jul",
         "Jul"
        ],
        [
         "year",
         "2015",
         "2015",
         "2015",
         "2015",
         "2015"
        ],
        [
         "month",
         "7",
         "7",
         "7",
         "7",
         "7"
        ],
        [
         "day",
         "31",
         "31",
         "31",
         "31",
         "31"
        ],
        [
         "week_of_year",
         "31",
         "31",
         "31",
         "31",
         "31"
        ],
        [
         "year_week",
         "2015-30",
         "2015-30",
         "2015-30",
         "2015-30",
         "2015-30"
        ],
        [
         "competition_since",
         "2015-07-01 00:00:00",
         "2015-07-01 00:00:00",
         "2015-07-01 00:00:00",
         "2015-07-01 00:00:00",
         "2015-07-01 00:00:00"
        ],
        [
         "competition_time_months",
         "1",
         "1",
         "1",
         "1",
         "1"
        ],
        [
         "promo_since",
         "2015-07-31 00:00:00",
         "2015-07-27 00:00:00",
         "2015-07-27 00:00:00",
         "2015-07-31 00:00:00",
         "2015-07-31 00:00:00"
        ],
        [
         "promo_time_weeks",
         "0",
         "0",
         "0",
         "0",
         "0"
        ]
       ],
       "shape": {
        "columns": 5,
        "rows": 28
       }
      },
      "text/html": [
       "<div>\n",
       "<style scoped>\n",
       "    .dataframe tbody tr th:only-of-type {\n",
       "        vertical-align: middle;\n",
       "    }\n",
       "\n",
       "    .dataframe tbody tr th {\n",
       "        vertical-align: top;\n",
       "    }\n",
       "\n",
       "    .dataframe thead th {\n",
       "        text-align: right;\n",
       "    }\n",
       "</style>\n",
       "<table border=\"1\" class=\"dataframe\">\n",
       "  <thead>\n",
       "    <tr style=\"text-align: right;\">\n",
       "      <th></th>\n",
       "      <th>0</th>\n",
       "      <th>1</th>\n",
       "      <th>2</th>\n",
       "      <th>3</th>\n",
       "      <th>4</th>\n",
       "    </tr>\n",
       "  </thead>\n",
       "  <tbody>\n",
       "    <tr>\n",
       "      <th>store</th>\n",
       "      <td>1</td>\n",
       "      <td>2</td>\n",
       "      <td>3</td>\n",
       "      <td>4</td>\n",
       "      <td>5</td>\n",
       "    </tr>\n",
       "    <tr>\n",
       "      <th>day_of_week</th>\n",
       "      <td>5</td>\n",
       "      <td>5</td>\n",
       "      <td>5</td>\n",
       "      <td>5</td>\n",
       "      <td>5</td>\n",
       "    </tr>\n",
       "    <tr>\n",
       "      <th>date</th>\n",
       "      <td>2015-07-31 00:00:00</td>\n",
       "      <td>2015-07-31 00:00:00</td>\n",
       "      <td>2015-07-31 00:00:00</td>\n",
       "      <td>2015-07-31 00:00:00</td>\n",
       "      <td>2015-07-31 00:00:00</td>\n",
       "    </tr>\n",
       "    <tr>\n",
       "      <th>sales</th>\n",
       "      <td>5263</td>\n",
       "      <td>6064</td>\n",
       "      <td>8314</td>\n",
       "      <td>13995</td>\n",
       "      <td>4822</td>\n",
       "    </tr>\n",
       "    <tr>\n",
       "      <th>customers</th>\n",
       "      <td>555</td>\n",
       "      <td>625</td>\n",
       "      <td>821</td>\n",
       "      <td>1498</td>\n",
       "      <td>559</td>\n",
       "    </tr>\n",
       "    <tr>\n",
       "      <th>open</th>\n",
       "      <td>1</td>\n",
       "      <td>1</td>\n",
       "      <td>1</td>\n",
       "      <td>1</td>\n",
       "      <td>1</td>\n",
       "    </tr>\n",
       "    <tr>\n",
       "      <th>promo</th>\n",
       "      <td>1</td>\n",
       "      <td>1</td>\n",
       "      <td>1</td>\n",
       "      <td>1</td>\n",
       "      <td>1</td>\n",
       "    </tr>\n",
       "    <tr>\n",
       "      <th>state_holiday</th>\n",
       "      <td>regular_day</td>\n",
       "      <td>regular_day</td>\n",
       "      <td>regular_day</td>\n",
       "      <td>regular_day</td>\n",
       "      <td>regular_day</td>\n",
       "    </tr>\n",
       "    <tr>\n",
       "      <th>school_holiday</th>\n",
       "      <td>1</td>\n",
       "      <td>1</td>\n",
       "      <td>1</td>\n",
       "      <td>1</td>\n",
       "      <td>1</td>\n",
       "    </tr>\n",
       "    <tr>\n",
       "      <th>store_type</th>\n",
       "      <td>c</td>\n",
       "      <td>a</td>\n",
       "      <td>a</td>\n",
       "      <td>c</td>\n",
       "      <td>a</td>\n",
       "    </tr>\n",
       "    <tr>\n",
       "      <th>assortment</th>\n",
       "      <td>basic</td>\n",
       "      <td>basic</td>\n",
       "      <td>basic</td>\n",
       "      <td>extended</td>\n",
       "      <td>basic</td>\n",
       "    </tr>\n",
       "    <tr>\n",
       "      <th>competition_distance</th>\n",
       "      <td>1270.0</td>\n",
       "      <td>570.0</td>\n",
       "      <td>14130.0</td>\n",
       "      <td>620.0</td>\n",
       "      <td>29910.0</td>\n",
       "    </tr>\n",
       "    <tr>\n",
       "      <th>competition_open_since_month</th>\n",
       "      <td>7</td>\n",
       "      <td>7</td>\n",
       "      <td>7</td>\n",
       "      <td>7</td>\n",
       "      <td>7</td>\n",
       "    </tr>\n",
       "    <tr>\n",
       "      <th>competition_open_since_year</th>\n",
       "      <td>2015</td>\n",
       "      <td>2015</td>\n",
       "      <td>2015</td>\n",
       "      <td>2015</td>\n",
       "      <td>2015</td>\n",
       "    </tr>\n",
       "    <tr>\n",
       "      <th>promo2</th>\n",
       "      <td>0</td>\n",
       "      <td>1</td>\n",
       "      <td>1</td>\n",
       "      <td>0</td>\n",
       "      <td>0</td>\n",
       "    </tr>\n",
       "    <tr>\n",
       "      <th>promo2_since_week</th>\n",
       "      <td>0</td>\n",
       "      <td>31</td>\n",
       "      <td>31</td>\n",
       "      <td>0</td>\n",
       "      <td>0</td>\n",
       "    </tr>\n",
       "    <tr>\n",
       "      <th>promo2_since_year</th>\n",
       "      <td>0</td>\n",
       "      <td>2015</td>\n",
       "      <td>2015</td>\n",
       "      <td>0</td>\n",
       "      <td>0</td>\n",
       "    </tr>\n",
       "    <tr>\n",
       "      <th>promo_interval</th>\n",
       "      <td>0</td>\n",
       "      <td>0</td>\n",
       "      <td>0</td>\n",
       "      <td>0</td>\n",
       "      <td>0</td>\n",
       "    </tr>\n",
       "    <tr>\n",
       "      <th>month_map</th>\n",
       "      <td>Jul</td>\n",
       "      <td>Jul</td>\n",
       "      <td>Jul</td>\n",
       "      <td>Jul</td>\n",
       "      <td>Jul</td>\n",
       "    </tr>\n",
       "    <tr>\n",
       "      <th>year</th>\n",
       "      <td>2015</td>\n",
       "      <td>2015</td>\n",
       "      <td>2015</td>\n",
       "      <td>2015</td>\n",
       "      <td>2015</td>\n",
       "    </tr>\n",
       "    <tr>\n",
       "      <th>month</th>\n",
       "      <td>7</td>\n",
       "      <td>7</td>\n",
       "      <td>7</td>\n",
       "      <td>7</td>\n",
       "      <td>7</td>\n",
       "    </tr>\n",
       "    <tr>\n",
       "      <th>day</th>\n",
       "      <td>31</td>\n",
       "      <td>31</td>\n",
       "      <td>31</td>\n",
       "      <td>31</td>\n",
       "      <td>31</td>\n",
       "    </tr>\n",
       "    <tr>\n",
       "      <th>week_of_year</th>\n",
       "      <td>31</td>\n",
       "      <td>31</td>\n",
       "      <td>31</td>\n",
       "      <td>31</td>\n",
       "      <td>31</td>\n",
       "    </tr>\n",
       "    <tr>\n",
       "      <th>year_week</th>\n",
       "      <td>2015-30</td>\n",
       "      <td>2015-30</td>\n",
       "      <td>2015-30</td>\n",
       "      <td>2015-30</td>\n",
       "      <td>2015-30</td>\n",
       "    </tr>\n",
       "    <tr>\n",
       "      <th>competition_since</th>\n",
       "      <td>2015-07-01 00:00:00</td>\n",
       "      <td>2015-07-01 00:00:00</td>\n",
       "      <td>2015-07-01 00:00:00</td>\n",
       "      <td>2015-07-01 00:00:00</td>\n",
       "      <td>2015-07-01 00:00:00</td>\n",
       "    </tr>\n",
       "    <tr>\n",
       "      <th>competition_time_months</th>\n",
       "      <td>1</td>\n",
       "      <td>1</td>\n",
       "      <td>1</td>\n",
       "      <td>1</td>\n",
       "      <td>1</td>\n",
       "    </tr>\n",
       "    <tr>\n",
       "      <th>promo_since</th>\n",
       "      <td>2015-07-31 00:00:00</td>\n",
       "      <td>2015-07-27 00:00:00</td>\n",
       "      <td>2015-07-27 00:00:00</td>\n",
       "      <td>2015-07-31 00:00:00</td>\n",
       "      <td>2015-07-31 00:00:00</td>\n",
       "    </tr>\n",
       "    <tr>\n",
       "      <th>promo_time_weeks</th>\n",
       "      <td>0</td>\n",
       "      <td>0</td>\n",
       "      <td>0</td>\n",
       "      <td>0</td>\n",
       "      <td>0</td>\n",
       "    </tr>\n",
       "  </tbody>\n",
       "</table>\n",
       "</div>"
      ],
      "text/plain": [
       "                                                0                    1  \\\n",
       "store                                           1                    2   \n",
       "day_of_week                                     5                    5   \n",
       "date                          2015-07-31 00:00:00  2015-07-31 00:00:00   \n",
       "sales                                        5263                 6064   \n",
       "customers                                     555                  625   \n",
       "open                                            1                    1   \n",
       "promo                                           1                    1   \n",
       "state_holiday                         regular_day          regular_day   \n",
       "school_holiday                                  1                    1   \n",
       "store_type                                      c                    a   \n",
       "assortment                                  basic                basic   \n",
       "competition_distance                       1270.0                570.0   \n",
       "competition_open_since_month                    7                    7   \n",
       "competition_open_since_year                  2015                 2015   \n",
       "promo2                                          0                    1   \n",
       "promo2_since_week                               0                   31   \n",
       "promo2_since_year                               0                 2015   \n",
       "promo_interval                                  0                    0   \n",
       "month_map                                     Jul                  Jul   \n",
       "year                                         2015                 2015   \n",
       "month                                           7                    7   \n",
       "day                                            31                   31   \n",
       "week_of_year                                   31                   31   \n",
       "year_week                                 2015-30              2015-30   \n",
       "competition_since             2015-07-01 00:00:00  2015-07-01 00:00:00   \n",
       "competition_time_months                         1                    1   \n",
       "promo_since                   2015-07-31 00:00:00  2015-07-27 00:00:00   \n",
       "promo_time_weeks                                0                    0   \n",
       "\n",
       "                                                2                    3  \\\n",
       "store                                           3                    4   \n",
       "day_of_week                                     5                    5   \n",
       "date                          2015-07-31 00:00:00  2015-07-31 00:00:00   \n",
       "sales                                        8314                13995   \n",
       "customers                                     821                 1498   \n",
       "open                                            1                    1   \n",
       "promo                                           1                    1   \n",
       "state_holiday                         regular_day          regular_day   \n",
       "school_holiday                                  1                    1   \n",
       "store_type                                      a                    c   \n",
       "assortment                                  basic             extended   \n",
       "competition_distance                      14130.0                620.0   \n",
       "competition_open_since_month                    7                    7   \n",
       "competition_open_since_year                  2015                 2015   \n",
       "promo2                                          1                    0   \n",
       "promo2_since_week                              31                    0   \n",
       "promo2_since_year                            2015                    0   \n",
       "promo_interval                                  0                    0   \n",
       "month_map                                     Jul                  Jul   \n",
       "year                                         2015                 2015   \n",
       "month                                           7                    7   \n",
       "day                                            31                   31   \n",
       "week_of_year                                   31                   31   \n",
       "year_week                                 2015-30              2015-30   \n",
       "competition_since             2015-07-01 00:00:00  2015-07-01 00:00:00   \n",
       "competition_time_months                         1                    1   \n",
       "promo_since                   2015-07-27 00:00:00  2015-07-31 00:00:00   \n",
       "promo_time_weeks                                0                    0   \n",
       "\n",
       "                                                4  \n",
       "store                                           5  \n",
       "day_of_week                                     5  \n",
       "date                          2015-07-31 00:00:00  \n",
       "sales                                        4822  \n",
       "customers                                     559  \n",
       "open                                            1  \n",
       "promo                                           1  \n",
       "state_holiday                         regular_day  \n",
       "school_holiday                                  1  \n",
       "store_type                                      a  \n",
       "assortment                                  basic  \n",
       "competition_distance                      29910.0  \n",
       "competition_open_since_month                    7  \n",
       "competition_open_since_year                  2015  \n",
       "promo2                                          0  \n",
       "promo2_since_week                               0  \n",
       "promo2_since_year                               0  \n",
       "promo_interval                                  0  \n",
       "month_map                                     Jul  \n",
       "year                                         2015  \n",
       "month                                           7  \n",
       "day                                            31  \n",
       "week_of_year                                   31  \n",
       "year_week                                 2015-30  \n",
       "competition_since             2015-07-01 00:00:00  \n",
       "competition_time_months                         1  \n",
       "promo_since                   2015-07-31 00:00:00  \n",
       "promo_time_weeks                                0  "
      ]
     },
     "execution_count": 57,
     "metadata": {},
     "output_type": "execute_result"
    }
   ],
   "source": [
    "df2.head().T"
   ]
  },
  {
   "cell_type": "markdown",
   "id": "6bb70e15",
   "metadata": {},
   "source": [
    "# 3.0 PASSO 3 - FILTRAGEM DE VARIAVEIS "
   ]
  },
  {
   "cell_type": "code",
   "execution_count": 58,
   "id": "5c10e340",
   "metadata": {},
   "outputs": [],
   "source": [
    "\n",
    "df3 = df2.copy()\n",
    "\n"
   ]
  },
  {
   "cell_type": "code",
   "execution_count": 59,
   "id": "afc8d74a",
   "metadata": {},
   "outputs": [
    {
     "data": {
      "application/vnd.microsoft.datawrangler.viewer.v0+json": {
       "columns": [
        {
         "name": "index",
         "rawType": "int64",
         "type": "integer"
        },
        {
         "name": "store",
         "rawType": "int64",
         "type": "integer"
        },
        {
         "name": "day_of_week",
         "rawType": "int64",
         "type": "integer"
        },
        {
         "name": "date",
         "rawType": "datetime64[ns]",
         "type": "datetime"
        },
        {
         "name": "sales",
         "rawType": "int64",
         "type": "integer"
        },
        {
         "name": "customers",
         "rawType": "int64",
         "type": "integer"
        },
        {
         "name": "open",
         "rawType": "int64",
         "type": "integer"
        },
        {
         "name": "promo",
         "rawType": "int64",
         "type": "integer"
        },
        {
         "name": "state_holiday",
         "rawType": "object",
         "type": "string"
        },
        {
         "name": "school_holiday",
         "rawType": "int64",
         "type": "integer"
        },
        {
         "name": "store_type",
         "rawType": "object",
         "type": "string"
        },
        {
         "name": "assortment",
         "rawType": "object",
         "type": "string"
        },
        {
         "name": "competition_distance",
         "rawType": "float64",
         "type": "float"
        },
        {
         "name": "competition_open_since_month",
         "rawType": "int64",
         "type": "integer"
        },
        {
         "name": "competition_open_since_year",
         "rawType": "int64",
         "type": "integer"
        },
        {
         "name": "promo2",
         "rawType": "int64",
         "type": "integer"
        },
        {
         "name": "promo2_since_week",
         "rawType": "int64",
         "type": "integer"
        },
        {
         "name": "promo2_since_year",
         "rawType": "int64",
         "type": "integer"
        },
        {
         "name": "promo_interval",
         "rawType": "object",
         "type": "unknown"
        },
        {
         "name": "month_map",
         "rawType": "object",
         "type": "string"
        },
        {
         "name": "year",
         "rawType": "int32",
         "type": "integer"
        },
        {
         "name": "month",
         "rawType": "int32",
         "type": "integer"
        },
        {
         "name": "day",
         "rawType": "int32",
         "type": "integer"
        },
        {
         "name": "week_of_year",
         "rawType": "UInt32",
         "type": "integer"
        },
        {
         "name": "year_week",
         "rawType": "object",
         "type": "string"
        },
        {
         "name": "competition_since",
         "rawType": "datetime64[ns]",
         "type": "datetime"
        },
        {
         "name": "competition_time_months",
         "rawType": "int64",
         "type": "integer"
        },
        {
         "name": "promo_since",
         "rawType": "datetime64[ns]",
         "type": "datetime"
        },
        {
         "name": "promo_time_weeks",
         "rawType": "int64",
         "type": "integer"
        }
       ],
       "ref": "40fd2ae9-3e46-4c9b-8235-751e419bee82",
       "rows": [
        [
         "0",
         "1",
         "5",
         "2015-07-31 00:00:00",
         "5263",
         "555",
         "1",
         "1",
         "regular_day",
         "1",
         "c",
         "basic",
         "1270.0",
         "7",
         "2015",
         "0",
         "0",
         "0",
         "0",
         "Jul",
         "2015",
         "7",
         "31",
         "31",
         "2015-30",
         "2015-07-01 00:00:00",
         "1",
         "2015-07-31 00:00:00",
         "0"
        ],
        [
         "1",
         "2",
         "5",
         "2015-07-31 00:00:00",
         "6064",
         "625",
         "1",
         "1",
         "regular_day",
         "1",
         "a",
         "basic",
         "570.0",
         "7",
         "2015",
         "1",
         "31",
         "2015",
         "0",
         "Jul",
         "2015",
         "7",
         "31",
         "31",
         "2015-30",
         "2015-07-01 00:00:00",
         "1",
         "2015-07-27 00:00:00",
         "0"
        ],
        [
         "2",
         "3",
         "5",
         "2015-07-31 00:00:00",
         "8314",
         "821",
         "1",
         "1",
         "regular_day",
         "1",
         "a",
         "basic",
         "14130.0",
         "7",
         "2015",
         "1",
         "31",
         "2015",
         "0",
         "Jul",
         "2015",
         "7",
         "31",
         "31",
         "2015-30",
         "2015-07-01 00:00:00",
         "1",
         "2015-07-27 00:00:00",
         "0"
        ],
        [
         "3",
         "4",
         "5",
         "2015-07-31 00:00:00",
         "13995",
         "1498",
         "1",
         "1",
         "regular_day",
         "1",
         "c",
         "extended",
         "620.0",
         "7",
         "2015",
         "0",
         "0",
         "0",
         "0",
         "Jul",
         "2015",
         "7",
         "31",
         "31",
         "2015-30",
         "2015-07-01 00:00:00",
         "1",
         "2015-07-31 00:00:00",
         "0"
        ],
        [
         "4",
         "5",
         "5",
         "2015-07-31 00:00:00",
         "4822",
         "559",
         "1",
         "1",
         "regular_day",
         "1",
         "a",
         "basic",
         "29910.0",
         "7",
         "2015",
         "0",
         "0",
         "0",
         "0",
         "Jul",
         "2015",
         "7",
         "31",
         "31",
         "2015-30",
         "2015-07-01 00:00:00",
         "1",
         "2015-07-31 00:00:00",
         "0"
        ]
       ],
       "shape": {
        "columns": 28,
        "rows": 5
       }
      },
      "text/html": [
       "<div>\n",
       "<style scoped>\n",
       "    .dataframe tbody tr th:only-of-type {\n",
       "        vertical-align: middle;\n",
       "    }\n",
       "\n",
       "    .dataframe tbody tr th {\n",
       "        vertical-align: top;\n",
       "    }\n",
       "\n",
       "    .dataframe thead th {\n",
       "        text-align: right;\n",
       "    }\n",
       "</style>\n",
       "<table border=\"1\" class=\"dataframe\">\n",
       "  <thead>\n",
       "    <tr style=\"text-align: right;\">\n",
       "      <th></th>\n",
       "      <th>store</th>\n",
       "      <th>day_of_week</th>\n",
       "      <th>date</th>\n",
       "      <th>sales</th>\n",
       "      <th>customers</th>\n",
       "      <th>open</th>\n",
       "      <th>promo</th>\n",
       "      <th>state_holiday</th>\n",
       "      <th>school_holiday</th>\n",
       "      <th>store_type</th>\n",
       "      <th>...</th>\n",
       "      <th>month_map</th>\n",
       "      <th>year</th>\n",
       "      <th>month</th>\n",
       "      <th>day</th>\n",
       "      <th>week_of_year</th>\n",
       "      <th>year_week</th>\n",
       "      <th>competition_since</th>\n",
       "      <th>competition_time_months</th>\n",
       "      <th>promo_since</th>\n",
       "      <th>promo_time_weeks</th>\n",
       "    </tr>\n",
       "  </thead>\n",
       "  <tbody>\n",
       "    <tr>\n",
       "      <th>0</th>\n",
       "      <td>1</td>\n",
       "      <td>5</td>\n",
       "      <td>2015-07-31</td>\n",
       "      <td>5263</td>\n",
       "      <td>555</td>\n",
       "      <td>1</td>\n",
       "      <td>1</td>\n",
       "      <td>regular_day</td>\n",
       "      <td>1</td>\n",
       "      <td>c</td>\n",
       "      <td>...</td>\n",
       "      <td>Jul</td>\n",
       "      <td>2015</td>\n",
       "      <td>7</td>\n",
       "      <td>31</td>\n",
       "      <td>31</td>\n",
       "      <td>2015-30</td>\n",
       "      <td>2015-07-01</td>\n",
       "      <td>1</td>\n",
       "      <td>2015-07-31</td>\n",
       "      <td>0</td>\n",
       "    </tr>\n",
       "    <tr>\n",
       "      <th>1</th>\n",
       "      <td>2</td>\n",
       "      <td>5</td>\n",
       "      <td>2015-07-31</td>\n",
       "      <td>6064</td>\n",
       "      <td>625</td>\n",
       "      <td>1</td>\n",
       "      <td>1</td>\n",
       "      <td>regular_day</td>\n",
       "      <td>1</td>\n",
       "      <td>a</td>\n",
       "      <td>...</td>\n",
       "      <td>Jul</td>\n",
       "      <td>2015</td>\n",
       "      <td>7</td>\n",
       "      <td>31</td>\n",
       "      <td>31</td>\n",
       "      <td>2015-30</td>\n",
       "      <td>2015-07-01</td>\n",
       "      <td>1</td>\n",
       "      <td>2015-07-27</td>\n",
       "      <td>0</td>\n",
       "    </tr>\n",
       "    <tr>\n",
       "      <th>2</th>\n",
       "      <td>3</td>\n",
       "      <td>5</td>\n",
       "      <td>2015-07-31</td>\n",
       "      <td>8314</td>\n",
       "      <td>821</td>\n",
       "      <td>1</td>\n",
       "      <td>1</td>\n",
       "      <td>regular_day</td>\n",
       "      <td>1</td>\n",
       "      <td>a</td>\n",
       "      <td>...</td>\n",
       "      <td>Jul</td>\n",
       "      <td>2015</td>\n",
       "      <td>7</td>\n",
       "      <td>31</td>\n",
       "      <td>31</td>\n",
       "      <td>2015-30</td>\n",
       "      <td>2015-07-01</td>\n",
       "      <td>1</td>\n",
       "      <td>2015-07-27</td>\n",
       "      <td>0</td>\n",
       "    </tr>\n",
       "    <tr>\n",
       "      <th>3</th>\n",
       "      <td>4</td>\n",
       "      <td>5</td>\n",
       "      <td>2015-07-31</td>\n",
       "      <td>13995</td>\n",
       "      <td>1498</td>\n",
       "      <td>1</td>\n",
       "      <td>1</td>\n",
       "      <td>regular_day</td>\n",
       "      <td>1</td>\n",
       "      <td>c</td>\n",
       "      <td>...</td>\n",
       "      <td>Jul</td>\n",
       "      <td>2015</td>\n",
       "      <td>7</td>\n",
       "      <td>31</td>\n",
       "      <td>31</td>\n",
       "      <td>2015-30</td>\n",
       "      <td>2015-07-01</td>\n",
       "      <td>1</td>\n",
       "      <td>2015-07-31</td>\n",
       "      <td>0</td>\n",
       "    </tr>\n",
       "    <tr>\n",
       "      <th>4</th>\n",
       "      <td>5</td>\n",
       "      <td>5</td>\n",
       "      <td>2015-07-31</td>\n",
       "      <td>4822</td>\n",
       "      <td>559</td>\n",
       "      <td>1</td>\n",
       "      <td>1</td>\n",
       "      <td>regular_day</td>\n",
       "      <td>1</td>\n",
       "      <td>a</td>\n",
       "      <td>...</td>\n",
       "      <td>Jul</td>\n",
       "      <td>2015</td>\n",
       "      <td>7</td>\n",
       "      <td>31</td>\n",
       "      <td>31</td>\n",
       "      <td>2015-30</td>\n",
       "      <td>2015-07-01</td>\n",
       "      <td>1</td>\n",
       "      <td>2015-07-31</td>\n",
       "      <td>0</td>\n",
       "    </tr>\n",
       "  </tbody>\n",
       "</table>\n",
       "<p>5 rows × 28 columns</p>\n",
       "</div>"
      ],
      "text/plain": [
       "   store  day_of_week       date  sales  customers  open  promo state_holiday  \\\n",
       "0      1            5 2015-07-31   5263        555     1      1   regular_day   \n",
       "1      2            5 2015-07-31   6064        625     1      1   regular_day   \n",
       "2      3            5 2015-07-31   8314        821     1      1   regular_day   \n",
       "3      4            5 2015-07-31  13995       1498     1      1   regular_day   \n",
       "4      5            5 2015-07-31   4822        559     1      1   regular_day   \n",
       "\n",
       "   school_holiday store_type  ... month_map  year  month  day  week_of_year  \\\n",
       "0               1          c  ...       Jul  2015      7   31            31   \n",
       "1               1          a  ...       Jul  2015      7   31            31   \n",
       "2               1          a  ...       Jul  2015      7   31            31   \n",
       "3               1          c  ...       Jul  2015      7   31            31   \n",
       "4               1          a  ...       Jul  2015      7   31            31   \n",
       "\n",
       "   year_week  competition_since competition_time_months promo_since  \\\n",
       "0    2015-30         2015-07-01                       1  2015-07-31   \n",
       "1    2015-30         2015-07-01                       1  2015-07-27   \n",
       "2    2015-30         2015-07-01                       1  2015-07-27   \n",
       "3    2015-30         2015-07-01                       1  2015-07-31   \n",
       "4    2015-30         2015-07-01                       1  2015-07-31   \n",
       "\n",
       "   promo_time_weeks  \n",
       "0                 0  \n",
       "1                 0  \n",
       "2                 0  \n",
       "3                 0  \n",
       "4                 0  \n",
       "\n",
       "[5 rows x 28 columns]"
      ]
     },
     "execution_count": 59,
     "metadata": {},
     "output_type": "execute_result"
    }
   ],
   "source": [
    "df3.head()"
   ]
  },
  {
   "cell_type": "markdown",
   "id": "a0be115f",
   "metadata": {},
   "source": [
    "## 3.1 filtragem das linhas "
   ]
  },
  {
   "cell_type": "code",
   "execution_count": 60,
   "id": "2545aacb",
   "metadata": {},
   "outputs": [],
   "source": [
    "df3 = df3[(df3['open'] != 0) & (df3['sales'] > 0)]"
   ]
  },
  {
   "cell_type": "markdown",
   "id": "0439eb12",
   "metadata": {},
   "source": [
    "## 3.2 Selecao das colunas\n",
    "\n"
   ]
  },
  {
   "cell_type": "code",
   "execution_count": 61,
   "id": "bacb3d10",
   "metadata": {},
   "outputs": [
    {
     "data": {
      "text/plain": [
       "Index(['store', 'day_of_week', 'date', 'sales', 'promo', 'state_holiday',\n",
       "       'school_holiday', 'store_type', 'assortment', 'competition_distance',\n",
       "       'competition_open_since_month', 'competition_open_since_year', 'promo2',\n",
       "       'promo2_since_week', 'promo2_since_year', 'year', 'month', 'day',\n",
       "       'week_of_year', 'year_week', 'competition_since',\n",
       "       'competition_time_months', 'promo_since', 'promo_time_weeks'],\n",
       "      dtype='object')"
      ]
     },
     "execution_count": 61,
     "metadata": {},
     "output_type": "execute_result"
    }
   ],
   "source": [
    "cols_drop = ['customers','open','promo_interval','month_map']\n",
    "\n",
    "df3 = df3.drop(cols_drop, axis=1)\n",
    "\n",
    "df3.columns\n"
   ]
  },
  {
   "cell_type": "markdown",
   "id": "fc39ef0f",
   "metadata": {},
   "source": [
    "# 4.0 PASSO 4 - ANALISE EXPLORATORIA DOSA DADOS "
   ]
  },
  {
   "cell_type": "code",
   "execution_count": 62,
   "id": "bfde921c",
   "metadata": {},
   "outputs": [],
   "source": [
    "df4 = df3.copy()"
   ]
  },
  {
   "cell_type": "markdown",
   "id": "83dec7c7",
   "metadata": {},
   "source": [
    "## 4.1 Analine univariada"
   ]
  },
  {
   "cell_type": "markdown",
   "id": "1990756f",
   "metadata": {},
   "source": [
    "### 4.1.1 Response variable"
   ]
  },
  {
   "cell_type": "code",
   "execution_count": 64,
   "id": "0aa37838",
   "metadata": {},
   "outputs": [
    {
     "data": {
      "image/png": "[encoded data removed]",
      "text/plain": [
       "<Figure size 500x500 with 1 Axes>"
      ]
     },
     "metadata": {},
     "output_type": "display_data"
    }
   ],
   "source": [
    "sns.displot(df4['sales']);"
   ]
  },
  {
   "cell_type": "markdown",
   "id": "dca7aa85",
   "metadata": {},
   "source": [
    "### 4.1.2 Numerical veriable"
   ]
  },
  {
   "cell_type": "code",
   "execution_count": 65,
   "id": "a23bf966",
   "metadata": {},
   "outputs": [
    {
     "data": {
      "image/png": "[encoded data removed]",
      "text/plain": [
       "<Figure size 1600x1600 with 16 Axes>"
      ]
     },
     "metadata": {},
     "output_type": "display_data"
    }
   ],
   "source": [
    "# 1. numero de colunas (4)\n",
    "ncols = 4\n",
    "\n",
    "# 2. Calcular o número de linhas necessárias\n",
    "nrows = -(-len(num_attributes.columns) // ncols)  # divisão arredondada para cima\n",
    "\n",
    "# 3. Crie a grade de subplots\n",
    "fig, axes = plt.subplots(nrows=nrows, ncols=ncols, figsize=(16, 4 * nrows))\n",
    "\n",
    "# 4. Transformar axes em uma lista para facilitar o acesso\n",
    "axes = axes.flatten()\n",
    "\n",
    "# 5. Para cada atributo numerico plotar o histograma em um subplot\n",
    "for i, col in enumerate(num_attributes.columns):\n",
    "    axes[i].hist(num_attributes[col])\n",
    "    axes[i].set_title(col)\n",
    "\n",
    "# 6. Desativar os subplots extras (caso o número de atributos não seja múltiplo de 4)\n",
    "for j in range(i+1, len(axes)):\n",
    "    axes[j].axis('off')\n",
    "\n",
    "# 7. Ajustar o layout para evitar sobreposição\n",
    "plt.tight_layout()\n",
    "plt.show()"
   ]
  },
  {
   "cell_type": "markdown",
   "id": "0e90f354",
   "metadata": {},
   "source": [
    "### 4.1.3 categorical variable"
   ]
  },
  {
   "cell_type": "code",
   "execution_count": 66,
   "id": "5285c0e7",
   "metadata": {},
   "outputs": [
    {
     "data": {
      "application/vnd.microsoft.datawrangler.viewer.v0+json": {
       "columns": [
        {
         "name": "index",
         "rawType": "int64",
         "type": "integer"
        },
        {
         "name": "state_holiday",
         "rawType": "object",
         "type": "string"
        }
       ],
       "ref": "aa900fb6-2b0d-4053-ae5e-b5f9c366fecf",
       "rows": [
        [
         "0",
         "regular_day"
        ],
        [
         "63559",
         "public_holiday"
        ],
        [
         "129424",
         "easter_holiday"
        ],
        [
         "241126",
         "christmas"
        ]
       ],
       "shape": {
        "columns": 1,
        "rows": 4
       }
      },
      "text/plain": [
       "0            regular_day\n",
       "63559     public_holiday\n",
       "129424    easter_holiday\n",
       "241126         christmas\n",
       "Name: state_holiday, dtype: object"
      ]
     },
     "execution_count": 66,
     "metadata": {},
     "output_type": "execute_result"
    }
   ],
   "source": [
    "df3['state_holiday'].drop_duplicates()"
   ]
  },
  {
   "cell_type": "code",
   "execution_count": 67,
   "id": "e317e7a2",
   "metadata": {},
   "outputs": [
    {
     "data": {
      "image/png": "[encoded data removed]",
      "text/plain": [
       "<Figure size 640x480 with 6 Axes>"
      ]
     },
     "metadata": {},
     "output_type": "display_data"
    }
   ],
   "source": [
    "# state_holiday\n",
    "\n",
    "x = df4[df4['state_holiday'] != 'regular_day']\n",
    "plt.subplot(3, 2, 1)\n",
    "sns.countplot(x=x['state_holiday'])\n",
    "\n",
    "plt.subplot(3, 2, 2)\n",
    "sns.kdeplot(df4[df4['state_holiday'] == 'public_holiday']['sales'], label='public holiday', fill=True)\n",
    "sns.kdeplot(df4[df4['state_holiday'] == 'east_holiday']['sales'], label='east Holiday', fill=True)\n",
    "sns.kdeplot(df4[df4['state_holiday'] == 'cristmas']['sales'], label='christmas', fill=True)\n",
    "\n",
    "\n",
    "# store_type\n",
    "plt.subplot(3, 2, 3)\n",
    "sns.countplot(x=df4['store_type'])\n",
    "\n",
    "plt.subplot(3, 2, 4)\n",
    "sns.kdeplot(df4[df4['store_type'] == 'a']['sales'], label='a', fill=True)\n",
    "sns.kdeplot(df4[df4['store_type'] == 'b']['sales'], label='b', fill=True)\n",
    "sns.kdeplot(df4[df4['store_type'] == 'c']['sales'], label='c', fill=True)\n",
    "sns.kdeplot(df4[df4['store_type'] == 'd']['sales'], label='d', fill=True)\n",
    "\n",
    "\n",
    "# assortment\n",
    "plt.subplot(3, 2, 5)\n",
    "sns.countplot(x=df4['store_type'])\n",
    "\n",
    "plt.subplot(3, 2, 6)\n",
    "sns.kdeplot(df4[df4['assortment'] == 'extended']['sales'], label='extended', fill=True)\n",
    "sns.kdeplot(df4[df4['assortment'] == 'basic']['sales'], label='basic', fill=True)\n",
    "sns.kdeplot(df4[df4['assortment'] == 'extra']['sales'], label='extra', fill=True)\n",
    "\n",
    "\n",
    "plt.show()\n",
    "\n",
    "\n",
    "\n"
   ]
  },
  {
   "cell_type": "markdown",
   "id": "1439221d",
   "metadata": {},
   "source": [
    "## 4.2 Analine bivariada"
   ]
  },
  {
   "cell_type": "markdown",
   "id": "acb8d430",
   "metadata": {},
   "source": [
    "### **H1** Lojas com maior sortimentos deveriam vender mais.\n",
    "**FALSE** Lojas com MAIOR SOTIMENTO vendem  MENOS \n",
    "\n"
   ]
  },
  {
   "cell_type": "code",
   "execution_count": 68,
   "id": "baeb0b7c",
   "metadata": {},
   "outputs": [
    {
     "data": {
      "image/png": "[encoded data removed]",
      "text/plain": [
       "<Figure size 640x480 with 1 Axes>"
      ]
     },
     "metadata": {},
     "output_type": "display_data"
    },
    {
     "data": {
      "image/png": "[encoded data removed]",
      "text/plain": [
       "<Figure size 640x480 with 1 Axes>"
      ]
     },
     "metadata": {},
     "output_type": "display_data"
    },
    {
     "data": {
      "image/png": "[encoded data removed]",
      "text/plain": [
       "<Figure size 640x480 with 1 Axes>"
      ]
     },
     "metadata": {},
     "output_type": "display_data"
    }
   ],
   "source": [
    "aux1 = df4[['assortment','sales']].groupby('assortment').sum().reset_index()\n",
    "sns.barplot(x='assortment', y='sales', data=aux1);\n",
    "\n",
    "aux2 = df4[['year_week','assortment','sales']].groupby(['year_week','assortment']).sum().reset_index()\n",
    "aux2.pivot(index='year_week', columns='assortment', values='sales').plot();\n",
    "\n",
    "aux3 = aux2[aux2['assortment'] == 'extra']\n",
    "aux3.pivot(index='year_week', columns='assortment', values='sales').plot();\n"
   ]
  },
  {
   "cell_type": "markdown",
   "id": "b103132d",
   "metadata": {},
   "source": [
    "### **H2** Lojas com competidores mais próximos deveriam vender menos.\n",
    "\n"
   ]
  },
  {
   "cell_type": "code",
   "execution_count": 116,
   "id": "478e6ff8",
   "metadata": {},
   "outputs": [
    {
     "data": {
      "image/png": "[encoded data removed]",
      "text/plain": [
       "<Figure size 640x480 with 4 Axes>"
      ]
     },
     "metadata": {},
     "output_type": "display_data"
    }
   ],
   "source": [
    "aux1 = df4[['competition_distance','sales']].groupby('competition_distance').sum().reset_index()\n",
    "plt.subplot(1, 3, 1 )\n",
    "sns.scatterplot(x='competition_distance', y='sales', data=aux1)\n",
    "plt.subplot(1, 3, 2 )\n",
    "bins = list(range(0, 20001, 1000))\n",
    "aux1['competition_distance_binned'] = pd.cut(aux1['competition_distance'], bins=bins)\n",
    "aux2 = aux1[['competition_distance_binned', 'sales']].groupby('competition_distance_binned', observed=False).sum().reset_index()\n",
    "aux2['competition_distance_binned_num'] = aux2['competition_distance_binned'].apply(lambda x: x.mid)\n",
    "sns.barplot(x='competition_distance_binned', y='sales', data=aux2)\n",
    "plt.xticks(rotation=90, fontsize=4)\n",
    "# Remover colunas não numéricas antes de calcular a correlação\n",
    "plt.subplot(1, 3, 3 )\n",
    "corr_data = aux1.drop(columns=['competition_distance_binned'], errors='ignore')\n",
    "sns.heatmap(corr_data.corr(method='pearson'), annot=True)\n",
    "plt.tight_layout()\n",
    "plt.show()"
   ]
  },
  {
   "cell_type": "markdown",
   "id": "082096b0",
   "metadata": {},
   "source": [
    "### **H3** Lojas com competidores à mais tempo deveriam vendem mais."
   ]
  },
  {
   "cell_type": "code",
   "execution_count": 93,
   "id": "31ccf716",
   "metadata": {},
   "outputs": [
    {
     "name": "stderr",
     "output_type": "stream",
     "text": [
      "C:\\Users\\d\\AppData\\Local\\Temp\\ipykernel_15864\\674772765.py:6: UserWarning: set_ticklabels() should only be used with a fixed number of ticks, i.e. after set_ticks() or using a FixedLocator.\n",
      "  axes[0].set_xticklabels(axes[0].get_xticklabels(), rotation=90)\n"
     ]
    },
    {
     "data": {
      "image/png": "[encoded data removed]",
      "text/plain": [
       "<Figure size 2400x600 with 4 Axes>"
      ]
     },
     "metadata": {},
     "output_type": "display_data"
    }
   ],
   "source": [
    "# Visualização H3: lojas com competidores há mais tempo deveriam vender mais\n",
    "aux1 = df4[['competition_time_months', 'sales']].groupby('competition_time_months').sum().reset_index()\n",
    "aux2 = aux1[(aux1['competition_time_months'] < 120) & (aux1['competition_time_months'] != 0)]\n",
    "fig, axes = plt.subplots(1, 3, figsize=(24, 6))\n",
    "sns.barplot(x='competition_time_months', y='sales', data=aux2, ax=axes[0])\n",
    "axes[0].set_xticklabels(axes[0].get_xticklabels(), rotation=90)\n",
    "sns.regplot(x='competition_time_months', y='sales', data=aux2, ax=axes[1])\n",
    "corr = aux1.corr(method='pearson')\n",
    "sns.heatmap(corr, annot=True, ax=axes[2])\n",
    "plt.tight_layout()\n",
    "plt.show()"
   ]
  },
  {
   "cell_type": "markdown",
   "id": "463c43eb",
   "metadata": {},
   "source": [
    "## 4.3 Analine multvariada"
   ]
  },
  {
   "cell_type": "markdown",
   "id": "4a847c94",
   "metadata": {},
   "source": []
  }
 ],
 "metadata": {
  "kernelspec": {
   "display_name": ".venv",
   "language": "python",
   "name": "python3"
  },
  "language_info": {
   "codemirror_mode": {
    "name": "ipython",
    "version": 3
   },
   "file_extension": ".py",
   "mimetype": "text/x-python",
   "name": "python",
   "nbconvert_exporter": "python",
   "pygments_lexer": "ipython3",
   "version": "3.12.6"
  }
 },
 "nbformat": 4,
 "nbformat_minor": 5
}
