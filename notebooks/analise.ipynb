{
 "cells": [
  {
   "cell_type": "markdown",
   "id": "1391f244",
   "metadata": {},
   "source": [
    "# 0.0 IMPORTS"
   ]
  },
  {
   "cell_type": "code",
   "execution_count": 18,
   "id": "69015751",
   "metadata": {},
   "outputs": [],
   "source": [
    "import pandas as pd\n",
    "import inflection\n",
    "import math\n",
    "import numpy as np\n",
    "import seaborn as sns\n",
    "from datetime import datetime"
   ]
  },
  {
   "cell_type": "markdown",
   "id": "5ab226ec",
   "metadata": {},
   "source": [
    "## 0.1 Helper functions"
   ]
  },
  {
   "cell_type": "markdown",
   "id": "732b6376",
   "metadata": {},
   "source": [
    "## 0.2 Loading data"
   ]
  },
  {
   "cell_type": "code",
   "execution_count": 2,
   "id": "8451ca8c",
   "metadata": {},
   "outputs": [
    {
     "name": "stderr",
     "output_type": "stream",
     "text": [
      "C:\\Users\\d\\AppData\\Local\\Temp\\ipykernel_18844\\1119377118.py:1: DtypeWarning: Columns (7) have mixed types. Specify dtype option on import or set low_memory=False.\n",
      "  df_sales_raw = pd.read_csv('../data/train.csv')\n"
     ]
    },
    {
     "data": {
      "application/vnd.microsoft.datawrangler.viewer.v0+json": {
       "columns": [
        {
         "name": "index",
         "rawType": "int64",
         "type": "integer"
        },
        {
         "name": "Store",
         "rawType": "int64",
         "type": "integer"
        },
        {
         "name": "DayOfWeek",
         "rawType": "int64",
         "type": "integer"
        },
        {
         "name": "Date",
         "rawType": "object",
         "type": "string"
        },
        {
         "name": "Sales",
         "rawType": "int64",
         "type": "integer"
        },
        {
         "name": "Customers",
         "rawType": "int64",
         "type": "integer"
        },
        {
         "name": "Open",
         "rawType": "int64",
         "type": "integer"
        },
        {
         "name": "Promo",
         "rawType": "int64",
         "type": "integer"
        },
        {
         "name": "StateHoliday",
         "rawType": "object",
         "type": "string"
        },
        {
         "name": "SchoolHoliday",
         "rawType": "int64",
         "type": "integer"
        },
        {
         "name": "StoreType",
         "rawType": "object",
         "type": "string"
        },
        {
         "name": "Assortment",
         "rawType": "object",
         "type": "string"
        },
        {
         "name": "CompetitionDistance",
         "rawType": "float64",
         "type": "float"
        },
        {
         "name": "CompetitionOpenSinceMonth",
         "rawType": "float64",
         "type": "float"
        },
        {
         "name": "CompetitionOpenSinceYear",
         "rawType": "float64",
         "type": "float"
        },
        {
         "name": "Promo2",
         "rawType": "int64",
         "type": "integer"
        },
        {
         "name": "Promo2SinceWeek",
         "rawType": "float64",
         "type": "float"
        },
        {
         "name": "Promo2SinceYear",
         "rawType": "float64",
         "type": "float"
        },
        {
         "name": "PromoInterval",
         "rawType": "object",
         "type": "unknown"
        }
       ],
       "ref": "7454e732-78f9-43c5-9f5c-42a247528dc6",
       "rows": [
        [
         "0",
         "1",
         "5",
         "2015-07-31",
         "5263",
         "555",
         "1",
         "1",
         "0",
         "1",
         "c",
         "a",
         "1270.0",
         "9.0",
         "2008.0",
         "0",
         null,
         null,
         null
        ],
        [
         "1",
         "2",
         "5",
         "2015-07-31",
         "6064",
         "625",
         "1",
         "1",
         "0",
         "1",
         "a",
         "a",
         "570.0",
         "11.0",
         "2007.0",
         "1",
         "13.0",
         "2010.0",
         "Jan,Apr,Jul,Oct"
        ],
        [
         "2",
         "3",
         "5",
         "2015-07-31",
         "8314",
         "821",
         "1",
         "1",
         "0",
         "1",
         "a",
         "a",
         "14130.0",
         "12.0",
         "2006.0",
         "1",
         "14.0",
         "2011.0",
         "Jan,Apr,Jul,Oct"
        ],
        [
         "3",
         "4",
         "5",
         "2015-07-31",
         "13995",
         "1498",
         "1",
         "1",
         "0",
         "1",
         "c",
         "c",
         "620.0",
         "9.0",
         "2009.0",
         "0",
         null,
         null,
         null
        ],
        [
         "4",
         "5",
         "5",
         "2015-07-31",
         "4822",
         "559",
         "1",
         "1",
         "0",
         "1",
         "a",
         "a",
         "29910.0",
         "4.0",
         "2015.0",
         "0",
         null,
         null,
         null
        ],
        [
         "5",
         "6",
         "5",
         "2015-07-31",
         "5651",
         "589",
         "1",
         "1",
         "0",
         "1",
         "a",
         "a",
         "310.0",
         "12.0",
         "2013.0",
         "0",
         null,
         null,
         null
        ],
        [
         "6",
         "7",
         "5",
         "2015-07-31",
         "15344",
         "1414",
         "1",
         "1",
         "0",
         "1",
         "a",
         "c",
         "24000.0",
         "4.0",
         "2013.0",
         "0",
         null,
         null,
         null
        ],
        [
         "7",
         "8",
         "5",
         "2015-07-31",
         "8492",
         "833",
         "1",
         "1",
         "0",
         "1",
         "a",
         "a",
         "7520.0",
         "10.0",
         "2014.0",
         "0",
         null,
         null,
         null
        ],
        [
         "8",
         "9",
         "5",
         "2015-07-31",
         "8565",
         "687",
         "1",
         "1",
         "0",
         "1",
         "a",
         "c",
         "2030.0",
         "8.0",
         "2000.0",
         "0",
         null,
         null,
         null
        ],
        [
         "9",
         "10",
         "5",
         "2015-07-31",
         "7185",
         "681",
         "1",
         "1",
         "0",
         "1",
         "a",
         "a",
         "3160.0",
         "9.0",
         "2009.0",
         "0",
         null,
         null,
         null
        ]
       ],
       "shape": {
        "columns": 18,
        "rows": 10
       }
      },
      "text/html": [
       "<div>\n",
       "<style scoped>\n",
       "    .dataframe tbody tr th:only-of-type {\n",
       "        vertical-align: middle;\n",
       "    }\n",
       "\n",
       "    .dataframe tbody tr th {\n",
       "        vertical-align: top;\n",
       "    }\n",
       "\n",
       "    .dataframe thead th {\n",
       "        text-align: right;\n",
       "    }\n",
       "</style>\n",
       "<table border=\"1\" class=\"dataframe\">\n",
       "  <thead>\n",
       "    <tr style=\"text-align: right;\">\n",
       "      <th></th>\n",
       "      <th>Store</th>\n",
       "      <th>DayOfWeek</th>\n",
       "      <th>Date</th>\n",
       "      <th>Sales</th>\n",
       "      <th>Customers</th>\n",
       "      <th>Open</th>\n",
       "      <th>Promo</th>\n",
       "      <th>StateHoliday</th>\n",
       "      <th>SchoolHoliday</th>\n",
       "      <th>StoreType</th>\n",
       "      <th>Assortment</th>\n",
       "      <th>CompetitionDistance</th>\n",
       "      <th>CompetitionOpenSinceMonth</th>\n",
       "      <th>CompetitionOpenSinceYear</th>\n",
       "      <th>Promo2</th>\n",
       "      <th>Promo2SinceWeek</th>\n",
       "      <th>Promo2SinceYear</th>\n",
       "      <th>PromoInterval</th>\n",
       "    </tr>\n",
       "  </thead>\n",
       "  <tbody>\n",
       "    <tr>\n",
       "      <th>0</th>\n",
       "      <td>1</td>\n",
       "      <td>5</td>\n",
       "      <td>2015-07-31</td>\n",
       "      <td>5263</td>\n",
       "      <td>555</td>\n",
       "      <td>1</td>\n",
       "      <td>1</td>\n",
       "      <td>0</td>\n",
       "      <td>1</td>\n",
       "      <td>c</td>\n",
       "      <td>a</td>\n",
       "      <td>1270.0</td>\n",
       "      <td>9.0</td>\n",
       "      <td>2008.0</td>\n",
       "      <td>0</td>\n",
       "      <td>NaN</td>\n",
       "      <td>NaN</td>\n",
       "      <td>NaN</td>\n",
       "    </tr>\n",
       "    <tr>\n",
       "      <th>1</th>\n",
       "      <td>2</td>\n",
       "      <td>5</td>\n",
       "      <td>2015-07-31</td>\n",
       "      <td>6064</td>\n",
       "      <td>625</td>\n",
       "      <td>1</td>\n",
       "      <td>1</td>\n",
       "      <td>0</td>\n",
       "      <td>1</td>\n",
       "      <td>a</td>\n",
       "      <td>a</td>\n",
       "      <td>570.0</td>\n",
       "      <td>11.0</td>\n",
       "      <td>2007.0</td>\n",
       "      <td>1</td>\n",
       "      <td>13.0</td>\n",
       "      <td>2010.0</td>\n",
       "      <td>Jan,Apr,Jul,Oct</td>\n",
       "    </tr>\n",
       "    <tr>\n",
       "      <th>2</th>\n",
       "      <td>3</td>\n",
       "      <td>5</td>\n",
       "      <td>2015-07-31</td>\n",
       "      <td>8314</td>\n",
       "      <td>821</td>\n",
       "      <td>1</td>\n",
       "      <td>1</td>\n",
       "      <td>0</td>\n",
       "      <td>1</td>\n",
       "      <td>a</td>\n",
       "      <td>a</td>\n",
       "      <td>14130.0</td>\n",
       "      <td>12.0</td>\n",
       "      <td>2006.0</td>\n",
       "      <td>1</td>\n",
       "      <td>14.0</td>\n",
       "      <td>2011.0</td>\n",
       "      <td>Jan,Apr,Jul,Oct</td>\n",
       "    </tr>\n",
       "    <tr>\n",
       "      <th>3</th>\n",
       "      <td>4</td>\n",
       "      <td>5</td>\n",
       "      <td>2015-07-31</td>\n",
       "      <td>13995</td>\n",
       "      <td>1498</td>\n",
       "      <td>1</td>\n",
       "      <td>1</td>\n",
       "      <td>0</td>\n",
       "      <td>1</td>\n",
       "      <td>c</td>\n",
       "      <td>c</td>\n",
       "      <td>620.0</td>\n",
       "      <td>9.0</td>\n",
       "      <td>2009.0</td>\n",
       "      <td>0</td>\n",
       "      <td>NaN</td>\n",
       "      <td>NaN</td>\n",
       "      <td>NaN</td>\n",
       "    </tr>\n",
       "    <tr>\n",
       "      <th>4</th>\n",
       "      <td>5</td>\n",
       "      <td>5</td>\n",
       "      <td>2015-07-31</td>\n",
       "      <td>4822</td>\n",
       "      <td>559</td>\n",
       "      <td>1</td>\n",
       "      <td>1</td>\n",
       "      <td>0</td>\n",
       "      <td>1</td>\n",
       "      <td>a</td>\n",
       "      <td>a</td>\n",
       "      <td>29910.0</td>\n",
       "      <td>4.0</td>\n",
       "      <td>2015.0</td>\n",
       "      <td>0</td>\n",
       "      <td>NaN</td>\n",
       "      <td>NaN</td>\n",
       "      <td>NaN</td>\n",
       "    </tr>\n",
       "    <tr>\n",
       "      <th>5</th>\n",
       "      <td>6</td>\n",
       "      <td>5</td>\n",
       "      <td>2015-07-31</td>\n",
       "      <td>5651</td>\n",
       "      <td>589</td>\n",
       "      <td>1</td>\n",
       "      <td>1</td>\n",
       "      <td>0</td>\n",
       "      <td>1</td>\n",
       "      <td>a</td>\n",
       "      <td>a</td>\n",
       "      <td>310.0</td>\n",
       "      <td>12.0</td>\n",
       "      <td>2013.0</td>\n",
       "      <td>0</td>\n",
       "      <td>NaN</td>\n",
       "      <td>NaN</td>\n",
       "      <td>NaN</td>\n",
       "    </tr>\n",
       "    <tr>\n",
       "      <th>6</th>\n",
       "      <td>7</td>\n",
       "      <td>5</td>\n",
       "      <td>2015-07-31</td>\n",
       "      <td>15344</td>\n",
       "      <td>1414</td>\n",
       "      <td>1</td>\n",
       "      <td>1</td>\n",
       "      <td>0</td>\n",
       "      <td>1</td>\n",
       "      <td>a</td>\n",
       "      <td>c</td>\n",
       "      <td>24000.0</td>\n",
       "      <td>4.0</td>\n",
       "      <td>2013.0</td>\n",
       "      <td>0</td>\n",
       "      <td>NaN</td>\n",
       "      <td>NaN</td>\n",
       "      <td>NaN</td>\n",
       "    </tr>\n",
       "    <tr>\n",
       "      <th>7</th>\n",
       "      <td>8</td>\n",
       "      <td>5</td>\n",
       "      <td>2015-07-31</td>\n",
       "      <td>8492</td>\n",
       "      <td>833</td>\n",
       "      <td>1</td>\n",
       "      <td>1</td>\n",
       "      <td>0</td>\n",
       "      <td>1</td>\n",
       "      <td>a</td>\n",
       "      <td>a</td>\n",
       "      <td>7520.0</td>\n",
       "      <td>10.0</td>\n",
       "      <td>2014.0</td>\n",
       "      <td>0</td>\n",
       "      <td>NaN</td>\n",
       "      <td>NaN</td>\n",
       "      <td>NaN</td>\n",
       "    </tr>\n",
       "    <tr>\n",
       "      <th>8</th>\n",
       "      <td>9</td>\n",
       "      <td>5</td>\n",
       "      <td>2015-07-31</td>\n",
       "      <td>8565</td>\n",
       "      <td>687</td>\n",
       "      <td>1</td>\n",
       "      <td>1</td>\n",
       "      <td>0</td>\n",
       "      <td>1</td>\n",
       "      <td>a</td>\n",
       "      <td>c</td>\n",
       "      <td>2030.0</td>\n",
       "      <td>8.0</td>\n",
       "      <td>2000.0</td>\n",
       "      <td>0</td>\n",
       "      <td>NaN</td>\n",
       "      <td>NaN</td>\n",
       "      <td>NaN</td>\n",
       "    </tr>\n",
       "    <tr>\n",
       "      <th>9</th>\n",
       "      <td>10</td>\n",
       "      <td>5</td>\n",
       "      <td>2015-07-31</td>\n",
       "      <td>7185</td>\n",
       "      <td>681</td>\n",
       "      <td>1</td>\n",
       "      <td>1</td>\n",
       "      <td>0</td>\n",
       "      <td>1</td>\n",
       "      <td>a</td>\n",
       "      <td>a</td>\n",
       "      <td>3160.0</td>\n",
       "      <td>9.0</td>\n",
       "      <td>2009.0</td>\n",
       "      <td>0</td>\n",
       "      <td>NaN</td>\n",
       "      <td>NaN</td>\n",
       "      <td>NaN</td>\n",
       "    </tr>\n",
       "  </tbody>\n",
       "</table>\n",
       "</div>"
      ],
      "text/plain": [
       "   Store  DayOfWeek        Date  Sales  Customers  Open  Promo StateHoliday  \\\n",
       "0      1          5  2015-07-31   5263        555     1      1            0   \n",
       "1      2          5  2015-07-31   6064        625     1      1            0   \n",
       "2      3          5  2015-07-31   8314        821     1      1            0   \n",
       "3      4          5  2015-07-31  13995       1498     1      1            0   \n",
       "4      5          5  2015-07-31   4822        559     1      1            0   \n",
       "5      6          5  2015-07-31   5651        589     1      1            0   \n",
       "6      7          5  2015-07-31  15344       1414     1      1            0   \n",
       "7      8          5  2015-07-31   8492        833     1      1            0   \n",
       "8      9          5  2015-07-31   8565        687     1      1            0   \n",
       "9     10          5  2015-07-31   7185        681     1      1            0   \n",
       "\n",
       "   SchoolHoliday StoreType Assortment  CompetitionDistance  \\\n",
       "0              1         c          a               1270.0   \n",
       "1              1         a          a                570.0   \n",
       "2              1         a          a              14130.0   \n",
       "3              1         c          c                620.0   \n",
       "4              1         a          a              29910.0   \n",
       "5              1         a          a                310.0   \n",
       "6              1         a          c              24000.0   \n",
       "7              1         a          a               7520.0   \n",
       "8              1         a          c               2030.0   \n",
       "9              1         a          a               3160.0   \n",
       "\n",
       "   CompetitionOpenSinceMonth  CompetitionOpenSinceYear  Promo2  \\\n",
       "0                        9.0                    2008.0       0   \n",
       "1                       11.0                    2007.0       1   \n",
       "2                       12.0                    2006.0       1   \n",
       "3                        9.0                    2009.0       0   \n",
       "4                        4.0                    2015.0       0   \n",
       "5                       12.0                    2013.0       0   \n",
       "6                        4.0                    2013.0       0   \n",
       "7                       10.0                    2014.0       0   \n",
       "8                        8.0                    2000.0       0   \n",
       "9                        9.0                    2009.0       0   \n",
       "\n",
       "   Promo2SinceWeek  Promo2SinceYear    PromoInterval  \n",
       "0              NaN              NaN              NaN  \n",
       "1             13.0           2010.0  Jan,Apr,Jul,Oct  \n",
       "2             14.0           2011.0  Jan,Apr,Jul,Oct  \n",
       "3              NaN              NaN              NaN  \n",
       "4              NaN              NaN              NaN  \n",
       "5              NaN              NaN              NaN  \n",
       "6              NaN              NaN              NaN  \n",
       "7              NaN              NaN              NaN  \n",
       "8              NaN              NaN              NaN  \n",
       "9              NaN              NaN              NaN  "
      ]
     },
     "execution_count": 2,
     "metadata": {},
     "output_type": "execute_result"
    }
   ],
   "source": [
    "df_sales_raw = pd.read_csv('../data/train.csv')\n",
    "df_store_raw = pd.read_csv('../data/store.csv')\n",
    "\n",
    "\n",
    "#merge\n",
    "df_row = pd.merge(df_sales_raw, df_store_raw, on='Store', how='left')\n",
    "\n",
    "\n",
    "\n",
    "df_row.head(10)\n",
    "\n"
   ]
  },
  {
   "cell_type": "markdown",
   "id": "2d446e0b",
   "metadata": {},
   "source": [
    "# 1.0 DESCRICAO DOS DADOS"
   ]
  },
  {
   "cell_type": "code",
   "execution_count": 3,
   "id": "b0344274",
   "metadata": {},
   "outputs": [],
   "source": [
    "df1 = df_row.copy()"
   ]
  },
  {
   "cell_type": "code",
   "execution_count": 4,
   "id": "2c17cf71",
   "metadata": {},
   "outputs": [
    {
     "data": {
      "text/plain": [
       "Index(['Store', 'DayOfWeek', 'Date', 'Sales', 'Customers', 'Open', 'Promo',\n",
       "       'StateHoliday', 'SchoolHoliday', 'StoreType', 'Assortment',\n",
       "       'CompetitionDistance', 'CompetitionOpenSinceMonth',\n",
       "       'CompetitionOpenSinceYear', 'Promo2', 'Promo2SinceWeek',\n",
       "       'Promo2SinceYear', 'PromoInterval'],\n",
       "      dtype='object')"
      ]
     },
     "execution_count": 4,
     "metadata": {},
     "output_type": "execute_result"
    }
   ],
   "source": [
    "df1.columns"
   ]
  },
  {
   "cell_type": "markdown",
   "id": "225e6492",
   "metadata": {},
   "source": [
    "## 1.1 Rename Columns"
   ]
  },
  {
   "cell_type": "code",
   "execution_count": 5,
   "id": "988d5479",
   "metadata": {},
   "outputs": [],
   "source": [
    "# rename columns    \n",
    "df1 = df_row.copy()\n",
    "# old column names\n",
    "cols_old = ['Store', 'DayOfWeek', 'Date', 'Sales', 'Customers', 'Open', 'Promo',\n",
    "       'StateHoliday', 'SchoolHoliday', 'StoreType', 'Assortment',\n",
    "       'CompetitionDistance', 'CompetitionOpenSinceMonth',\n",
    "       'CompetitionOpenSinceYear', 'Promo2', 'Promo2SinceWeek',\n",
    "       'Promo2SinceYear', 'PromoInterval']\n",
    "\n",
    "\n",
    "# rename columns\n",
    "anakecase = lambda x: inflection.underscore(x)\n",
    "cols_new = list(map(anakecase, cols_old))\n",
    "\n",
    "df1.columns = cols_new\n",
    "\n",
    "\n"
   ]
  },
  {
   "cell_type": "code",
   "execution_count": 6,
   "id": "8c526386",
   "metadata": {},
   "outputs": [
    {
     "data": {
      "text/plain": [
       "Index(['store', 'day_of_week', 'date', 'sales', 'customers', 'open', 'promo',\n",
       "       'state_holiday', 'school_holiday', 'store_type', 'assortment',\n",
       "       'competition_distance', 'competition_open_since_month',\n",
       "       'competition_open_since_year', 'promo2', 'promo2_since_week',\n",
       "       'promo2_since_year', 'promo_interval'],\n",
       "      dtype='object')"
      ]
     },
     "execution_count": 6,
     "metadata": {},
     "output_type": "execute_result"
    }
   ],
   "source": [
    "df1.columns"
   ]
  },
  {
   "cell_type": "code",
   "execution_count": null,
   "id": "908e87ee",
   "metadata": {},
   "outputs": [],
   "source": []
  },
  {
   "cell_type": "markdown",
   "id": "0f04174f",
   "metadata": {},
   "source": [
    "## 1.2 Data Dimension"
   ]
  },
  {
   "cell_type": "code",
   "execution_count": 7,
   "id": "106c4a40",
   "metadata": {},
   "outputs": [
    {
     "name": "stdout",
     "output_type": "stream",
     "text": [
      "number of rows: 1017209\n",
      "number of columns: 18\n"
     ]
    }
   ],
   "source": [
    "print('number of rows:', df1.shape[0])\n",
    "print('number of columns:', df1.shape[1])"
   ]
  },
  {
   "cell_type": "markdown",
   "id": "e94a38c9",
   "metadata": {},
   "source": [
    "## 1.3 Data types"
   ]
  },
  {
   "cell_type": "code",
   "execution_count": 8,
   "id": "b6feb276",
   "metadata": {},
   "outputs": [
    {
     "data": {
      "application/vnd.microsoft.datawrangler.viewer.v0+json": {
       "columns": [
        {
         "name": "index",
         "rawType": "object",
         "type": "string"
        },
        {
         "name": "0",
         "rawType": "object",
         "type": "unknown"
        }
       ],
       "ref": "c3d8324f-7793-415e-abf3-aa2fbaa77170",
       "rows": [
        [
         "store",
         "int64"
        ],
        [
         "day_of_week",
         "int64"
        ],
        [
         "date",
         "datetime64[ns]"
        ],
        [
         "sales",
         "int64"
        ],
        [
         "customers",
         "int64"
        ],
        [
         "open",
         "int64"
        ],
        [
         "promo",
         "int64"
        ],
        [
         "state_holiday",
         "object"
        ],
        [
         "school_holiday",
         "int64"
        ],
        [
         "store_type",
         "object"
        ],
        [
         "assortment",
         "object"
        ],
        [
         "competition_distance",
         "float64"
        ],
        [
         "competition_open_since_month",
         "float64"
        ],
        [
         "competition_open_since_year",
         "float64"
        ],
        [
         "promo2",
         "int64"
        ],
        [
         "promo2_since_week",
         "float64"
        ],
        [
         "promo2_since_year",
         "float64"
        ],
        [
         "promo_interval",
         "object"
        ]
       ],
       "shape": {
        "columns": 1,
        "rows": 18
       }
      },
      "text/plain": [
       "store                                    int64\n",
       "day_of_week                              int64\n",
       "date                            datetime64[ns]\n",
       "sales                                    int64\n",
       "customers                                int64\n",
       "open                                     int64\n",
       "promo                                    int64\n",
       "state_holiday                           object\n",
       "school_holiday                           int64\n",
       "store_type                              object\n",
       "assortment                              object\n",
       "competition_distance                   float64\n",
       "competition_open_since_month           float64\n",
       "competition_open_since_year            float64\n",
       "promo2                                   int64\n",
       "promo2_since_week                      float64\n",
       "promo2_since_year                      float64\n",
       "promo_interval                          object\n",
       "dtype: object"
      ]
     },
     "execution_count": 8,
     "metadata": {},
     "output_type": "execute_result"
    }
   ],
   "source": [
    "#alterar objeto para data \n",
    "if 'date' in df1.columns:\n",
    "    df1['date'] = pd.to_datetime(df1['date'])\n",
    "\n",
    "df1.dtypes"
   ]
  },
  {
   "cell_type": "markdown",
   "id": "00ec3d0f",
   "metadata": {},
   "source": [
    "## 1.4 Check Na"
   ]
  },
  {
   "cell_type": "code",
   "execution_count": 9,
   "id": "9ad4726c",
   "metadata": {},
   "outputs": [
    {
     "data": {
      "application/vnd.microsoft.datawrangler.viewer.v0+json": {
       "columns": [
        {
         "name": "index",
         "rawType": "object",
         "type": "string"
        },
        {
         "name": "0",
         "rawType": "int64",
         "type": "integer"
        }
       ],
       "ref": "cb2c3e5a-2ee2-43c0-80ba-5f078dea84a9",
       "rows": [
        [
         "store",
         "0"
        ],
        [
         "day_of_week",
         "0"
        ],
        [
         "date",
         "0"
        ],
        [
         "sales",
         "0"
        ],
        [
         "customers",
         "0"
        ],
        [
         "open",
         "0"
        ],
        [
         "promo",
         "0"
        ],
        [
         "state_holiday",
         "0"
        ],
        [
         "school_holiday",
         "0"
        ],
        [
         "store_type",
         "0"
        ],
        [
         "assortment",
         "0"
        ],
        [
         "competition_distance",
         "2642"
        ],
        [
         "competition_open_since_month",
         "323348"
        ],
        [
         "competition_open_since_year",
         "323348"
        ],
        [
         "promo2",
         "0"
        ],
        [
         "promo2_since_week",
         "508031"
        ],
        [
         "promo2_since_year",
         "508031"
        ],
        [
         "promo_interval",
         "508031"
        ]
       ],
       "shape": {
        "columns": 1,
        "rows": 18
       }
      },
      "text/plain": [
       "store                                0\n",
       "day_of_week                          0\n",
       "date                                 0\n",
       "sales                                0\n",
       "customers                            0\n",
       "open                                 0\n",
       "promo                                0\n",
       "state_holiday                        0\n",
       "school_holiday                       0\n",
       "store_type                           0\n",
       "assortment                           0\n",
       "competition_distance              2642\n",
       "competition_open_since_month    323348\n",
       "competition_open_since_year     323348\n",
       "promo2                               0\n",
       "promo2_since_week               508031\n",
       "promo2_since_year               508031\n",
       "promo_interval                  508031\n",
       "dtype: int64"
      ]
     },
     "execution_count": 9,
     "metadata": {},
     "output_type": "execute_result"
    }
   ],
   "source": [
    "df1.isna().sum()"
   ]
  },
  {
   "cell_type": "markdown",
   "id": "4bcd54ea",
   "metadata": {},
   "source": [
    "## 1.5 fillout\n"
   ]
  },
  {
   "cell_type": "code",
   "execution_count": 10,
   "id": "3f8134e3",
   "metadata": {},
   "outputs": [
    {
     "name": "stderr",
     "output_type": "stream",
     "text": [
      "C:\\Users\\d\\AppData\\Local\\Temp\\ipykernel_18844\\360667503.py:27: FutureWarning: A value is trying to be set on a copy of a DataFrame or Series through chained assignment using an inplace method.\n",
      "The behavior will change in pandas 3.0. This inplace method will never work because the intermediate object on which we are setting values always behaves as a copy.\n",
      "\n",
      "For example, when doing 'df[col].method(value, inplace=True)', try using 'df.method({col: value}, inplace=True)' or df[col] = df[col].method(value) instead, to perform the operation inplace on the original object.\n",
      "\n",
      "\n",
      "  df1['promo_interval'].fillna(0, inplace=True)\n"
     ]
    },
    {
     "data": {
      "application/vnd.microsoft.datawrangler.viewer.v0+json": {
       "columns": [
        {
         "name": "index",
         "rawType": "object",
         "type": "string"
        },
        {
         "name": "0",
         "rawType": "int64",
         "type": "integer"
        }
       ],
       "ref": "1859187e-d2d4-418a-921e-c566004ddf33",
       "rows": [
        [
         "store",
         "0"
        ],
        [
         "day_of_week",
         "0"
        ],
        [
         "date",
         "0"
        ],
        [
         "sales",
         "0"
        ],
        [
         "customers",
         "0"
        ],
        [
         "open",
         "0"
        ],
        [
         "promo",
         "0"
        ],
        [
         "state_holiday",
         "0"
        ],
        [
         "school_holiday",
         "0"
        ],
        [
         "store_type",
         "0"
        ],
        [
         "assortment",
         "0"
        ],
        [
         "competition_distance",
         "0"
        ],
        [
         "competition_open_since_month",
         "0"
        ],
        [
         "competition_open_since_year",
         "0"
        ],
        [
         "promo2",
         "0"
        ],
        [
         "promo2_since_week",
         "0"
        ],
        [
         "promo2_since_year",
         "0"
        ],
        [
         "promo_interval",
         "0"
        ],
        [
         "month_map",
         "0"
        ]
       ],
       "shape": {
        "columns": 1,
        "rows": 19
       }
      },
      "text/plain": [
       "store                           0\n",
       "day_of_week                     0\n",
       "date                            0\n",
       "sales                           0\n",
       "customers                       0\n",
       "open                            0\n",
       "promo                           0\n",
       "state_holiday                   0\n",
       "school_holiday                  0\n",
       "store_type                      0\n",
       "assortment                      0\n",
       "competition_distance            0\n",
       "competition_open_since_month    0\n",
       "competition_open_since_year     0\n",
       "promo2                          0\n",
       "promo2_since_week               0\n",
       "promo2_since_year               0\n",
       "promo_interval                  0\n",
       "month_map                       0\n",
       "dtype: int64"
      ]
     },
     "execution_count": 10,
     "metadata": {},
     "output_type": "execute_result"
    }
   ],
   "source": [
    "# Tratamento eficiente de competition_distance\n",
    "if 'competition_distance' in df1.columns:\n",
    "    df1['competition_distance'] = df1['competition_distance'].fillna(200000).clip(upper=200000)\n",
    "if 'competition_open_since_month' in df1.columns and 'date' in df1.columns:\n",
    "    df1['competition_open_since_month'] = df1.apply(lambda x: x['date'].month if not math.isnan(x['competition_open_since_month']) else 0, axis=1)\n",
    "if 'competition_open_since_year' in df1.columns and 'date' in df1.columns:\n",
    "    df1['competition_open_since_year'] = df1.apply(lambda x: x['date'].year if not math.isnan(x['competition_open_since_month']) else 0, axis=1)\n",
    "if 'promo2_since_week' in df1.columns and 'date' in df1.columns:\n",
    "    df1['promo2_since_week'] = df1.apply(lambda x: x['date'].week if not math.isnan(x['promo2_since_week']) else 0, axis=1)\n",
    "if 'promo2_since_year' in df1.columns and 'date' in df1.columns:\n",
    "    df1['promo2_since_year'] = df1.apply(lambda x: x['date'].year if not math.isnan(x['promo2_since_year']) else 0, axis=1)\n",
    "month_map = {\n",
    "    1: 'Jan',\n",
    "    2: 'Feb',\n",
    "    3: 'Mar',\n",
    "    4: 'Apr',\n",
    "    5: 'May',\n",
    "    6: 'Jun',\n",
    "    7: 'Jul',\n",
    "    8: 'Aug',\n",
    "    9: 'Sep',\n",
    "    10: 'Oct',\n",
    "    11: 'Nov',\n",
    "    12: 'Dec'\n",
    "}\n",
    "if 'promo_interval' in df1.columns:\n",
    "    df1['promo_interval'].fillna(0, inplace=True)\n",
    "if 'date' in df1.columns:\n",
    "    df1['month_map'] = df1['date'].dt.month.map(month_map)\n",
    "if 'promo_interval' in df1.columns:\n",
    "    df1['promo_interval'] = df1.apply(lambda x: 0 if x['promo_interval'] == 0 else 1 if x['promo_interval'] == 1 else 2 if x['promo_interval'] == 2 else 3 if x['promo_interval'] == 3 else 4 if x['promo_interval'] == 4 else 5 if x['promo_interval'] == 5 else 6 if x['promo_interval'] == 6 else 7 if x['promo_interval'] == 7 else 8 if x['promo_interval'] == 8 else 9 if x['promo_interval'] == 9 else 10 if x['promo_interval'] == 10 else 11 if x['promo_interval'] == 11 else 12 if x['promo_interval'] == 12 else '0', axis=1)\n",
    "df1.isna().sum()"
   ]
  },
  {
   "cell_type": "markdown",
   "id": "bda231eb",
   "metadata": {},
   "source": [
    "## 1.6 Change types "
   ]
  },
  {
   "cell_type": "markdown",
   "id": "855dc0ed",
   "metadata": {},
   "source": [
    "## 1.7 Discriptive Statistics"
   ]
  },
  {
   "cell_type": "code",
   "execution_count": 11,
   "id": "74a1b713",
   "metadata": {},
   "outputs": [
    {
     "data": {
      "application/vnd.microsoft.datawrangler.viewer.v0+json": {
       "columns": [
        {
         "name": "index",
         "rawType": "object",
         "type": "string"
        },
        {
         "name": "mean",
         "rawType": "float64",
         "type": "float"
        },
        {
         "name": "median",
         "rawType": "float64",
         "type": "float"
        },
        {
         "name": "std",
         "rawType": "float64",
         "type": "float"
        },
        {
         "name": "min",
         "rawType": "float64",
         "type": "float"
        },
        {
         "name": "max",
         "rawType": "float64",
         "type": "float"
        },
        {
         "name": "range",
         "rawType": "float64",
         "type": "float"
        },
        {
         "name": "skewness",
         "rawType": "float64",
         "type": "float"
        },
        {
         "name": "kurtosis",
         "rawType": "float64",
         "type": "float"
        }
       ],
       "ref": "153b204a-f921-4a0e-811c-27b751fb50e4",
       "rows": [
        [
         "store",
         "558.4297268309659",
         "558.0",
         "321.9084929120918",
         "1.0",
         "1115.0",
         "1114.0",
         "-0.0009548799809840578",
         "-1.200523740729823"
        ],
        [
         "day_of_week",
         "3.998340557348588",
         "4.0",
         "1.9973899831405972",
         "1.0",
         "7.0",
         "6.0",
         "0.0015928228042007841",
         "-1.2468733392506068"
        ],
        [
         "sales",
         "5773.818972305593",
         "5744.0",
         "3849.9242828374636",
         "0.0",
         "41551.0",
         "41551.0",
         "0.6414596158103795",
         "1.7783747472372804"
        ],
        [
         "customers",
         "633.1459464082602",
         "609.0",
         "464.4115056091358",
         "0.0",
         "7388.0",
         "7388.0",
         "1.5986502899508923",
         "7.091772717755949"
        ],
        [
         "open",
         "0.8301066939045958",
         "1.0",
         "0.3755390401001972",
         "0.0",
         "1.0",
         "1.0",
         "-1.758044546316302",
         "1.0907227713687773"
        ],
        [
         "promo",
         "0.3815145166824124",
         "0.0",
         "0.485758366107057",
         "0.0",
         "1.0",
         "1.0",
         "0.4878378482245111",
         "-1.7620176982598017"
        ],
        [
         "school_holiday",
         "0.17864666946517382",
         "0.0",
         "0.383056179892943",
         "0.0",
         "1.0",
         "1.0",
         "1.6778416393157316",
         "0.815154169344845"
        ],
        [
         "competition_distance",
         "5935.442676971989",
         "2330.0",
         "12547.646828520044",
         "20.0",
         "200000.0",
         "199980.0",
         "10.242343612769435",
         "147.78971152245433"
        ],
        [
         "competition_open_since_month",
         "3.9867913083741886",
         "3.0",
         "3.8666882451488744",
         "0.0",
         "12.0",
         "12.0",
         "0.5739707116291021",
         "-0.9357986282448025"
        ],
        [
         "competition_open_since_year",
         "2013.8322920855005",
         "2014.0",
         "0.7773955763738967",
         "2013.0",
         "2015.0",
         "2.0",
         "0.3002654564131023",
         "-1.290603358250168"
        ],
        [
         "promo2",
         "0.5005637976069814",
         "1.0",
         "0.4999996821321573",
         "0.0",
         "1.0",
         "1.0",
         "-0.0022551951871962106",
         "-1.9999988464248226"
        ],
        [
         "promo2_since_week",
         "11.644146876403964",
         "1.0",
         "15.436413399476965",
         "0.0",
         "52.0",
         "52.0",
         "1.1011567355822607",
         "-0.06936066413220132"
        ],
        [
         "promo2_since_year",
         "1008.0496033755109",
         "2013.0",
         "1006.9137251154681",
         "0.0",
         "2015.0",
         "2015.0",
         "-0.0022542803321535746",
         "-1.9999976305415188"
        ]
       ],
       "shape": {
        "columns": 8,
        "rows": 13
       }
      },
      "text/html": [
       "<div>\n",
       "<style scoped>\n",
       "    .dataframe tbody tr th:only-of-type {\n",
       "        vertical-align: middle;\n",
       "    }\n",
       "\n",
       "    .dataframe tbody tr th {\n",
       "        vertical-align: top;\n",
       "    }\n",
       "\n",
       "    .dataframe thead th {\n",
       "        text-align: right;\n",
       "    }\n",
       "</style>\n",
       "<table border=\"1\" class=\"dataframe\">\n",
       "  <thead>\n",
       "    <tr style=\"text-align: right;\">\n",
       "      <th></th>\n",
       "      <th>mean</th>\n",
       "      <th>median</th>\n",
       "      <th>std</th>\n",
       "      <th>min</th>\n",
       "      <th>max</th>\n",
       "      <th>range</th>\n",
       "      <th>skewness</th>\n",
       "      <th>kurtosis</th>\n",
       "    </tr>\n",
       "  </thead>\n",
       "  <tbody>\n",
       "    <tr>\n",
       "      <th>store</th>\n",
       "      <td>558.429727</td>\n",
       "      <td>558.0</td>\n",
       "      <td>321.908493</td>\n",
       "      <td>1.0</td>\n",
       "      <td>1115.0</td>\n",
       "      <td>1114.0</td>\n",
       "      <td>-0.000955</td>\n",
       "      <td>-1.200524</td>\n",
       "    </tr>\n",
       "    <tr>\n",
       "      <th>day_of_week</th>\n",
       "      <td>3.998341</td>\n",
       "      <td>4.0</td>\n",
       "      <td>1.997390</td>\n",
       "      <td>1.0</td>\n",
       "      <td>7.0</td>\n",
       "      <td>6.0</td>\n",
       "      <td>0.001593</td>\n",
       "      <td>-1.246873</td>\n",
       "    </tr>\n",
       "    <tr>\n",
       "      <th>sales</th>\n",
       "      <td>5773.818972</td>\n",
       "      <td>5744.0</td>\n",
       "      <td>3849.924283</td>\n",
       "      <td>0.0</td>\n",
       "      <td>41551.0</td>\n",
       "      <td>41551.0</td>\n",
       "      <td>0.641460</td>\n",
       "      <td>1.778375</td>\n",
       "    </tr>\n",
       "    <tr>\n",
       "      <th>customers</th>\n",
       "      <td>633.145946</td>\n",
       "      <td>609.0</td>\n",
       "      <td>464.411506</td>\n",
       "      <td>0.0</td>\n",
       "      <td>7388.0</td>\n",
       "      <td>7388.0</td>\n",
       "      <td>1.598650</td>\n",
       "      <td>7.091773</td>\n",
       "    </tr>\n",
       "    <tr>\n",
       "      <th>open</th>\n",
       "      <td>0.830107</td>\n",
       "      <td>1.0</td>\n",
       "      <td>0.375539</td>\n",
       "      <td>0.0</td>\n",
       "      <td>1.0</td>\n",
       "      <td>1.0</td>\n",
       "      <td>-1.758045</td>\n",
       "      <td>1.090723</td>\n",
       "    </tr>\n",
       "    <tr>\n",
       "      <th>promo</th>\n",
       "      <td>0.381515</td>\n",
       "      <td>0.0</td>\n",
       "      <td>0.485758</td>\n",
       "      <td>0.0</td>\n",
       "      <td>1.0</td>\n",
       "      <td>1.0</td>\n",
       "      <td>0.487838</td>\n",
       "      <td>-1.762018</td>\n",
       "    </tr>\n",
       "    <tr>\n",
       "      <th>school_holiday</th>\n",
       "      <td>0.178647</td>\n",
       "      <td>0.0</td>\n",
       "      <td>0.383056</td>\n",
       "      <td>0.0</td>\n",
       "      <td>1.0</td>\n",
       "      <td>1.0</td>\n",
       "      <td>1.677842</td>\n",
       "      <td>0.815154</td>\n",
       "    </tr>\n",
       "    <tr>\n",
       "      <th>competition_distance</th>\n",
       "      <td>5935.442677</td>\n",
       "      <td>2330.0</td>\n",
       "      <td>12547.646829</td>\n",
       "      <td>20.0</td>\n",
       "      <td>200000.0</td>\n",
       "      <td>199980.0</td>\n",
       "      <td>10.242344</td>\n",
       "      <td>147.789712</td>\n",
       "    </tr>\n",
       "    <tr>\n",
       "      <th>competition_open_since_month</th>\n",
       "      <td>3.986791</td>\n",
       "      <td>3.0</td>\n",
       "      <td>3.866688</td>\n",
       "      <td>0.0</td>\n",
       "      <td>12.0</td>\n",
       "      <td>12.0</td>\n",
       "      <td>0.573971</td>\n",
       "      <td>-0.935799</td>\n",
       "    </tr>\n",
       "    <tr>\n",
       "      <th>competition_open_since_year</th>\n",
       "      <td>2013.832292</td>\n",
       "      <td>2014.0</td>\n",
       "      <td>0.777396</td>\n",
       "      <td>2013.0</td>\n",
       "      <td>2015.0</td>\n",
       "      <td>2.0</td>\n",
       "      <td>0.300265</td>\n",
       "      <td>-1.290603</td>\n",
       "    </tr>\n",
       "    <tr>\n",
       "      <th>promo2</th>\n",
       "      <td>0.500564</td>\n",
       "      <td>1.0</td>\n",
       "      <td>0.500000</td>\n",
       "      <td>0.0</td>\n",
       "      <td>1.0</td>\n",
       "      <td>1.0</td>\n",
       "      <td>-0.002255</td>\n",
       "      <td>-1.999999</td>\n",
       "    </tr>\n",
       "    <tr>\n",
       "      <th>promo2_since_week</th>\n",
       "      <td>11.644147</td>\n",
       "      <td>1.0</td>\n",
       "      <td>15.436413</td>\n",
       "      <td>0.0</td>\n",
       "      <td>52.0</td>\n",
       "      <td>52.0</td>\n",
       "      <td>1.101157</td>\n",
       "      <td>-0.069361</td>\n",
       "    </tr>\n",
       "    <tr>\n",
       "      <th>promo2_since_year</th>\n",
       "      <td>1008.049603</td>\n",
       "      <td>2013.0</td>\n",
       "      <td>1006.913725</td>\n",
       "      <td>0.0</td>\n",
       "      <td>2015.0</td>\n",
       "      <td>2015.0</td>\n",
       "      <td>-0.002254</td>\n",
       "      <td>-1.999998</td>\n",
       "    </tr>\n",
       "  </tbody>\n",
       "</table>\n",
       "</div>"
      ],
      "text/plain": [
       "                                     mean  median           std     min  \\\n",
       "store                          558.429727   558.0    321.908493     1.0   \n",
       "day_of_week                      3.998341     4.0      1.997390     1.0   \n",
       "sales                         5773.818972  5744.0   3849.924283     0.0   \n",
       "customers                      633.145946   609.0    464.411506     0.0   \n",
       "open                             0.830107     1.0      0.375539     0.0   \n",
       "promo                            0.381515     0.0      0.485758     0.0   \n",
       "school_holiday                   0.178647     0.0      0.383056     0.0   \n",
       "competition_distance          5935.442677  2330.0  12547.646829    20.0   \n",
       "competition_open_since_month     3.986791     3.0      3.866688     0.0   \n",
       "competition_open_since_year   2013.832292  2014.0      0.777396  2013.0   \n",
       "promo2                           0.500564     1.0      0.500000     0.0   \n",
       "promo2_since_week               11.644147     1.0     15.436413     0.0   \n",
       "promo2_since_year             1008.049603  2013.0   1006.913725     0.0   \n",
       "\n",
       "                                   max     range   skewness    kurtosis  \n",
       "store                           1115.0    1114.0  -0.000955   -1.200524  \n",
       "day_of_week                        7.0       6.0   0.001593   -1.246873  \n",
       "sales                          41551.0   41551.0   0.641460    1.778375  \n",
       "customers                       7388.0    7388.0   1.598650    7.091773  \n",
       "open                               1.0       1.0  -1.758045    1.090723  \n",
       "promo                              1.0       1.0   0.487838   -1.762018  \n",
       "school_holiday                     1.0       1.0   1.677842    0.815154  \n",
       "competition_distance          200000.0  199980.0  10.242344  147.789712  \n",
       "competition_open_since_month      12.0      12.0   0.573971   -0.935799  \n",
       "competition_open_since_year     2015.0       2.0   0.300265   -1.290603  \n",
       "promo2                             1.0       1.0  -0.002255   -1.999999  \n",
       "promo2_since_week                 52.0      52.0   1.101157   -0.069361  \n",
       "promo2_since_year               2015.0    2015.0  -0.002254   -1.999998  "
      ]
     },
     "execution_count": 11,
     "metadata": {},
     "output_type": "execute_result"
    }
   ],
   "source": [
    "# Selecionar apenas atributos numéricos para estatísticas descritivas\n",
    "num_attributes = df1.select_dtypes(include=['int64', 'float64'])\n",
    "cat_attributes = df1.select_dtypes(exclude=['int64', 'float64', 'datetime64[ns]'])\n",
    "\n",
    "# Central tendency - mean, median\n",
    "ct1 = pd.DataFrame(num_attributes.apply(np.mean)).T\n",
    "ct2 = pd.DataFrame(num_attributes.apply(np.median)).T\n",
    "\n",
    "# dispersion - std, min, max, range, skewness, kurtosis\n",
    "\n",
    "d1 = pd.DataFrame(num_attributes.apply(np.std)).T\n",
    "d2 = pd.DataFrame(num_attributes.apply(np.min)).T\n",
    "d3 = pd.DataFrame(num_attributes.apply(np.max)).T\n",
    "d4 = pd.DataFrame(num_attributes.apply(lambda x: x.max() - x.min())).T\n",
    "d5 = pd.DataFrame(num_attributes.apply(lambda x: x.skew())).T\n",
    "d6 = pd.DataFrame(num_attributes.apply(lambda x: x.kurtosis())).T\n",
    "\n",
    "# concatenace\n",
    "\n",
    "m = pd.concat([ct1, ct2, d1, d2, d3, d4, d5, d6])\n",
    "\n",
    "# Transpor antes de renomear colunas\n",
    "m = m.T\n",
    "m.columns = ['mean', 'median', 'std', 'min', 'max', 'range', 'skewness', 'kurtosis']\n",
    "\n",
    "m"
   ]
  },
  {
   "cell_type": "code",
   "execution_count": 104,
   "id": "56c5f873",
   "metadata": {},
   "outputs": [
    {
     "data": {
      "text/plain": [
       "<seaborn.axisgrid.FacetGrid at 0x1f221720830>"
      ]
     },
     "execution_count": 104,
     "metadata": {},
     "output_type": "execute_result"
    },
    {
     "data": {
      "image/png": "[encoded data removed]",
      "text/plain": [
       "<Figure size 500x500 with 1 Axes>"
      ]
     },
     "metadata": {},
     "output_type": "display_data"
    }
   ],
   "source": [
    "sns.displot(df1['competition_distance']) "
   ]
  },
  {
   "cell_type": "code",
   "execution_count": 13,
   "id": "97d32f30",
   "metadata": {},
   "outputs": [
    {
     "data": {
      "application/vnd.microsoft.datawrangler.viewer.v0+json": {
       "columns": [
        {
         "name": "index",
         "rawType": "object",
         "type": "string"
        },
        {
         "name": "0",
         "rawType": "int64",
         "type": "integer"
        }
       ],
       "ref": "5c3cbde0-b2f0-40fe-87a9-0c7467c2cda7",
       "rows": [
        [
         "state_holiday",
         "5"
        ],
        [
         "store_type",
         "4"
        ],
        [
         "assortment",
         "3"
        ],
        [
         "promo_interval",
         "2"
        ],
        [
         "month_map",
         "12"
        ]
       ],
       "shape": {
        "columns": 1,
        "rows": 5
       }
      },
      "text/plain": [
       "state_holiday      5\n",
       "store_type         4\n",
       "assortment         3\n",
       "promo_interval     2\n",
       "month_map         12\n",
       "dtype: int64"
      ]
     },
     "execution_count": 13,
     "metadata": {},
     "output_type": "execute_result"
    }
   ],
   "source": [
    "cat_attributes = df1.select_dtypes(exclude=['int64', 'float64', 'datetime64[ns]'])\n",
    "cat_attributes.apply(lambda x: x.unique().shape[0])"
   ]
  },
  {
   "cell_type": "code",
   "execution_count": null,
   "id": "499c765c",
   "metadata": {},
   "outputs": [
    {
     "data": {
      "text/plain": [
       "<Axes: xlabel='state_holiday', ylabel='sales'>"
      ]
     },
     "execution_count": 14,
     "metadata": {},
     "output_type": "execute_result"
    },
    {
     "data": {
      "image/png": "[encoded data removed]",
      "text/plain": [
       "<Figure size 640x480 with 1 Axes>"
      ]
     },
     "metadata": {},
     "output_type": "display_data"
    }
   ],
   "source": [
    "aux1 = df1[(df1['state_holiday'] != '0') & (df1['sales'] > 0)]\n",
    "sns.boxplot(x='state_holiday', y='sales', data=aux1)"
   ]
  },
  {
   "cell_type": "markdown",
   "id": "7adec0c6",
   "metadata": {},
   "source": [
    "# 2.0 Criancao das hipoteses"
   ]
  },
  {
   "cell_type": "code",
   "execution_count": 15,
   "id": "9b56c5ff",
   "metadata": {},
   "outputs": [],
   "source": [
    "df2 = df1.copy()"
   ]
  },
  {
   "cell_type": "markdown",
   "id": "4d3cfafe",
   "metadata": {},
   "source": [
    "### 2.1 hipoteses da loja"
   ]
  },
  {
   "cell_type": "markdown",
   "id": "5f82e39f",
   "metadata": {},
   "source": [
    "\n",
    "**1.** Lojas com número maior de funcionários deveriam vender mais.\n",
    "\n",
    "**2.** Lojas com maior capacidade de estoque deveriam vender mais.\n",
    "\n",
    "**3.** Lojas com maior porte deveriam vender mais.\n",
    "\n",
    "**4.** Lojas com maior sortimentos deveriam vender mais.\n",
    "\n",
    "**5.** Lojas com competidores mais próximos deveriam vender menos.\n",
    "\n",
    "**6.** Lojas com competidores à mais tempo deveriam vendem mais.\n",
    "\n"
   ]
  },
  {
   "cell_type": "markdown",
   "id": "f1e33ffa",
   "metadata": {},
   "source": [
    "### 2.2 hipoteses do produto"
   ]
  },
  {
   "cell_type": "markdown",
   "id": "7487f818",
   "metadata": {},
   "source": [
    "\n",
    "**1.** Lojas que investem mais em Marketing deveriam vender mais.\n",
    "\n",
    "**2.** Lojas com maior exposição de produto deveriam vender mais.\n",
    "\n",
    "**3.** Lojas com produtos com preço menor deveriam vender mais.\n",
    "\n",
    "**4.** Lojas com promoções mais agressivas (descontos maiores), deveriam vender mais.\n",
    "\n",
    "**5.** Lojas com promoções ativas por mais tempo deveriam vender mais.\n",
    "\n",
    "**6.** Lojas com mais dias de promoção deveriam vender mais.\n",
    "\n",
    "**7.** Lojas com mais promoções consecutivas deveriam vender mais.\n"
   ]
  },
  {
   "cell_type": "markdown",
   "id": "7aacb2f3",
   "metadata": {},
   "source": [
    "### 2.3 hipoteses do tempo"
   ]
  },
  {
   "cell_type": "markdown",
   "id": "94547a09",
   "metadata": {},
   "source": [
    "\n",
    "**1.** Lojas abertas durante o feriado de Natal deveriam vender mais.\n",
    "\n",
    "**2.** Lojas deveriam vender mais ao longo dos anos.\n",
    "\n",
    "**3.** Lojas deveriam vender mais no segundo semestre do ano.\n",
    "\n",
    "**4.** Lojas deveriam vender mais depois do dia 10 de cada mês.\n",
    "\n",
    "**5.** Lojas deveriam vender menos aos finais de semana.\n",
    "\n",
    "**6.** Lojas deveriam vender menos durante os feriados escolares."
   ]
  },
  {
   "cell_type": "markdown",
   "id": "8f82ad02",
   "metadata": {},
   "source": [
    "## 2.1 feature engineering"
   ]
  },
  {
   "cell_type": "code",
   "execution_count": null,
   "id": "55ad711b",
   "metadata": {},
   "outputs": [],
   "source": [
    "# year\n",
    "df2['year'] = df2['date'].dt.year\n",
    "# month\n",
    "df2['month'] = df2['date'].dt.month\n",
    "# day\n",
    "df2['day'] = df2['date'].dt.day\n",
    "# week of year\n",
    "df2['week_of_year'] = df2['date'].dt.isocalendar().week\n",
    "# year week\n",
    "df2['year_week'] = df2['date'].dt.strftime('%Y-%W')\n",
    "\n",
    "# competition since (robusto)\n",
    "def get_competition_since(row):\n",
    "    year = int(row['competition_open_since_year']) if not pd.isna(row['competition_open_since_year']) and row['competition_open_since_year'] > 0 else row['date'].year\n",
    "    month = int(row['competition_open_since_month']) if not pd.isna(row['competition_open_since_month']) and row['competition_open_since_month'] > 0 else row['date'].month\n",
    "    day = 1\n",
    "    return pd.Timestamp(year=year, month=month, day=day)\n",
    "df2['competition_since'] = df2.apply(get_competition_since, axis=1)\n",
    "df2['competition_time_months'] = ((df2['date'] - df2['competition_since']) / np.timedelta64(30, 'D')).astype(int)\n",
    "# promo since (robusto)\n",
    "def get_promo_since(row):\n",
    "    try:\n",
    "        year = int(row['promo2_since_year'])\n",
    "        week = int(row['promo2_since_week'])\n",
    "        if year > 0 and week > 0:\n",
    "            return pd.to_datetime(f'{year}-W{week}-1', format='%Y-W%W-%w') - pd.Timedelta(days=7)\n",
    "        else:\n",
    "            return row['date']\n",
    "    except:\n",
    "        return row['date']\n",
    "df2['promo_since'] = df2.apply(get_promo_since, axis=1)\n",
    "df2['promo_time_weeks'] = ((df2['date'] - df2['promo_since'])/np.timedelta64(1, 'W')).astype(int)\n",
    "# assortment\n",
    "df2['assortment'] = df2['assortment'].apply(lambda x: 'basic' if x == 'a' else 'extra' if x == 'b' else 'extended')\n",
    "# state holiday\n",
    "df2['state_holiday'] = df2['state_holiday'].apply(lambda x: 'public_holiday' if x == 'a' else 'easter_holiday' if x == 'b' else 'christmas' if x == 'c' else 'regular_day')"
   ]
  },
  {
   "cell_type": "code",
   "execution_count": 33,
   "id": "6fe39c04",
   "metadata": {},
   "outputs": [
    {
     "data": {
      "application/vnd.microsoft.datawrangler.viewer.v0+json": {
       "columns": [
        {
         "name": "index",
         "rawType": "object",
         "type": "string"
        },
        {
         "name": "0",
         "rawType": "object",
         "type": "unknown"
        },
        {
         "name": "1",
         "rawType": "object",
         "type": "unknown"
        },
        {
         "name": "2",
         "rawType": "object",
         "type": "unknown"
        },
        {
         "name": "3",
         "rawType": "object",
         "type": "unknown"
        },
        {
         "name": "4",
         "rawType": "object",
         "type": "unknown"
        }
       ],
       "ref": "80f8ac1e-6104-40dd-8ce0-2337d3338c10",
       "rows": [
        [
         "store",
         "1",
         "2",
         "3",
         "4",
         "5"
        ],
        [
         "day_of_week",
         "5",
         "5",
         "5",
         "5",
         "5"
        ],
        [
         "date",
         "2015-07-31 00:00:00",
         "2015-07-31 00:00:00",
         "2015-07-31 00:00:00",
         "2015-07-31 00:00:00",
         "2015-07-31 00:00:00"
        ],
        [
         "sales",
         "5263",
         "6064",
         "8314",
         "13995",
         "4822"
        ],
        [
         "customers",
         "555",
         "625",
         "821",
         "1498",
         "559"
        ],
        [
         "open",
         "1",
         "1",
         "1",
         "1",
         "1"
        ],
        [
         "promo",
         "1",
         "1",
         "1",
         "1",
         "1"
        ],
        [
         "state_holiday",
         "regular_day",
         "regular_day",
         "regular_day",
         "regular_day",
         "regular_day"
        ],
        [
         "school_holiday",
         "1",
         "1",
         "1",
         "1",
         "1"
        ],
        [
         "store_type",
         "c",
         "a",
         "a",
         "c",
         "a"
        ],
        [
         "assortment",
         "basic",
         "basic",
         "basic",
         "extended",
         "basic"
        ],
        [
         "competition_distance",
         "1270.0",
         "570.0",
         "14130.0",
         "620.0",
         "29910.0"
        ],
        [
         "competition_open_since_month",
         "7",
         "7",
         "7",
         "7",
         "7"
        ],
        [
         "competition_open_since_year",
         "2015",
         "2015",
         "2015",
         "2015",
         "2015"
        ],
        [
         "promo2",
         "0",
         "1",
         "1",
         "0",
         "0"
        ],
        [
         "promo2_since_week",
         "0",
         "31",
         "31",
         "0",
         "0"
        ],
        [
         "promo2_since_year",
         "0",
         "2015",
         "2015",
         "0",
         "0"
        ],
        [
         "promo_interval",
         "0",
         "0",
         "0",
         "0",
         "0"
        ],
        [
         "month_map",
         "Jul",
         "Jul",
         "Jul",
         "Jul",
         "Jul"
        ],
        [
         "year",
         "2015",
         "2015",
         "2015",
         "2015",
         "2015"
        ],
        [
         "month",
         "7",
         "7",
         "7",
         "7",
         "7"
        ],
        [
         "day",
         "31",
         "31",
         "31",
         "31",
         "31"
        ],
        [
         "week_of_year",
         "31",
         "31",
         "31",
         "31",
         "31"
        ],
        [
         "year_week",
         "2015-30",
         "2015-30",
         "2015-30",
         "2015-30",
         "2015-30"
        ],
        [
         "competition_since_year",
         "2015",
         "2015",
         "2015",
         "2015",
         "2015"
        ],
        [
         "competition_since_month",
         "7",
         "7",
         "7",
         "7",
         "7"
        ],
        [
         "competition_since_day",
         "1",
         "1",
         "1",
         "1",
         "1"
        ],
        [
         "competition_since",
         "2015-07-01 00:00:00",
         "2015-07-01 00:00:00",
         "2015-07-01 00:00:00",
         "2015-07-01 00:00:00",
         "2015-07-01 00:00:00"
        ],
        [
         "competition_time_months",
         "1",
         "1",
         "1",
         "1",
         "1"
        ],
        [
         "promo_since",
         "2015-07-31 00:00:00",
         "2015-07-27 00:00:00",
         "2015-07-27 00:00:00",
         "2015-07-31 00:00:00",
         "2015-07-31 00:00:00"
        ],
        [
         "promo_time_weeks",
         "0",
         "0",
         "0",
         "0",
         "0"
        ]
       ],
       "shape": {
        "columns": 5,
        "rows": 31
       }
      },
      "text/html": [
       "<div>\n",
       "<style scoped>\n",
       "    .dataframe tbody tr th:only-of-type {\n",
       "        vertical-align: middle;\n",
       "    }\n",
       "\n",
       "    .dataframe tbody tr th {\n",
       "        vertical-align: top;\n",
       "    }\n",
       "\n",
       "    .dataframe thead th {\n",
       "        text-align: right;\n",
       "    }\n",
       "</style>\n",
       "<table border=\"1\" class=\"dataframe\">\n",
       "  <thead>\n",
       "    <tr style=\"text-align: right;\">\n",
       "      <th></th>\n",
       "      <th>0</th>\n",
       "      <th>1</th>\n",
       "      <th>2</th>\n",
       "      <th>3</th>\n",
       "      <th>4</th>\n",
       "    </tr>\n",
       "  </thead>\n",
       "  <tbody>\n",
       "    <tr>\n",
       "      <th>store</th>\n",
       "      <td>1</td>\n",
       "      <td>2</td>\n",
       "      <td>3</td>\n",
       "      <td>4</td>\n",
       "      <td>5</td>\n",
       "    </tr>\n",
       "    <tr>\n",
       "      <th>day_of_week</th>\n",
       "      <td>5</td>\n",
       "      <td>5</td>\n",
       "      <td>5</td>\n",
       "      <td>5</td>\n",
       "      <td>5</td>\n",
       "    </tr>\n",
       "    <tr>\n",
       "      <th>date</th>\n",
       "      <td>2015-07-31 00:00:00</td>\n",
       "      <td>2015-07-31 00:00:00</td>\n",
       "      <td>2015-07-31 00:00:00</td>\n",
       "      <td>2015-07-31 00:00:00</td>\n",
       "      <td>2015-07-31 00:00:00</td>\n",
       "    </tr>\n",
       "    <tr>\n",
       "      <th>sales</th>\n",
       "      <td>5263</td>\n",
       "      <td>6064</td>\n",
       "      <td>8314</td>\n",
       "      <td>13995</td>\n",
       "      <td>4822</td>\n",
       "    </tr>\n",
       "    <tr>\n",
       "      <th>customers</th>\n",
       "      <td>555</td>\n",
       "      <td>625</td>\n",
       "      <td>821</td>\n",
       "      <td>1498</td>\n",
       "      <td>559</td>\n",
       "    </tr>\n",
       "    <tr>\n",
       "      <th>open</th>\n",
       "      <td>1</td>\n",
       "      <td>1</td>\n",
       "      <td>1</td>\n",
       "      <td>1</td>\n",
       "      <td>1</td>\n",
       "    </tr>\n",
       "    <tr>\n",
       "      <th>promo</th>\n",
       "      <td>1</td>\n",
       "      <td>1</td>\n",
       "      <td>1</td>\n",
       "      <td>1</td>\n",
       "      <td>1</td>\n",
       "    </tr>\n",
       "    <tr>\n",
       "      <th>state_holiday</th>\n",
       "      <td>regular_day</td>\n",
       "      <td>regular_day</td>\n",
       "      <td>regular_day</td>\n",
       "      <td>regular_day</td>\n",
       "      <td>regular_day</td>\n",
       "    </tr>\n",
       "    <tr>\n",
       "      <th>school_holiday</th>\n",
       "      <td>1</td>\n",
       "      <td>1</td>\n",
       "      <td>1</td>\n",
       "      <td>1</td>\n",
       "      <td>1</td>\n",
       "    </tr>\n",
       "    <tr>\n",
       "      <th>store_type</th>\n",
       "      <td>c</td>\n",
       "      <td>a</td>\n",
       "      <td>a</td>\n",
       "      <td>c</td>\n",
       "      <td>a</td>\n",
       "    </tr>\n",
       "    <tr>\n",
       "      <th>assortment</th>\n",
       "      <td>basic</td>\n",
       "      <td>basic</td>\n",
       "      <td>basic</td>\n",
       "      <td>extended</td>\n",
       "      <td>basic</td>\n",
       "    </tr>\n",
       "    <tr>\n",
       "      <th>competition_distance</th>\n",
       "      <td>1270.0</td>\n",
       "      <td>570.0</td>\n",
       "      <td>14130.0</td>\n",
       "      <td>620.0</td>\n",
       "      <td>29910.0</td>\n",
       "    </tr>\n",
       "    <tr>\n",
       "      <th>competition_open_since_month</th>\n",
       "      <td>7</td>\n",
       "      <td>7</td>\n",
       "      <td>7</td>\n",
       "      <td>7</td>\n",
       "      <td>7</td>\n",
       "    </tr>\n",
       "    <tr>\n",
       "      <th>competition_open_since_year</th>\n",
       "      <td>2015</td>\n",
       "      <td>2015</td>\n",
       "      <td>2015</td>\n",
       "      <td>2015</td>\n",
       "      <td>2015</td>\n",
       "    </tr>\n",
       "    <tr>\n",
       "      <th>promo2</th>\n",
       "      <td>0</td>\n",
       "      <td>1</td>\n",
       "      <td>1</td>\n",
       "      <td>0</td>\n",
       "      <td>0</td>\n",
       "    </tr>\n",
       "    <tr>\n",
       "      <th>promo2_since_week</th>\n",
       "      <td>0</td>\n",
       "      <td>31</td>\n",
       "      <td>31</td>\n",
       "      <td>0</td>\n",
       "      <td>0</td>\n",
       "    </tr>\n",
       "    <tr>\n",
       "      <th>promo2_since_year</th>\n",
       "      <td>0</td>\n",
       "      <td>2015</td>\n",
       "      <td>2015</td>\n",
       "      <td>0</td>\n",
       "      <td>0</td>\n",
       "    </tr>\n",
       "    <tr>\n",
       "      <th>promo_interval</th>\n",
       "      <td>0</td>\n",
       "      <td>0</td>\n",
       "      <td>0</td>\n",
       "      <td>0</td>\n",
       "      <td>0</td>\n",
       "    </tr>\n",
       "    <tr>\n",
       "      <th>month_map</th>\n",
       "      <td>Jul</td>\n",
       "      <td>Jul</td>\n",
       "      <td>Jul</td>\n",
       "      <td>Jul</td>\n",
       "      <td>Jul</td>\n",
       "    </tr>\n",
       "    <tr>\n",
       "      <th>year</th>\n",
       "      <td>2015</td>\n",
       "      <td>2015</td>\n",
       "      <td>2015</td>\n",
       "      <td>2015</td>\n",
       "      <td>2015</td>\n",
       "    </tr>\n",
       "    <tr>\n",
       "      <th>month</th>\n",
       "      <td>7</td>\n",
       "      <td>7</td>\n",
       "      <td>7</td>\n",
       "      <td>7</td>\n",
       "      <td>7</td>\n",
       "    </tr>\n",
       "    <tr>\n",
       "      <th>day</th>\n",
       "      <td>31</td>\n",
       "      <td>31</td>\n",
       "      <td>31</td>\n",
       "      <td>31</td>\n",
       "      <td>31</td>\n",
       "    </tr>\n",
       "    <tr>\n",
       "      <th>week_of_year</th>\n",
       "      <td>31</td>\n",
       "      <td>31</td>\n",
       "      <td>31</td>\n",
       "      <td>31</td>\n",
       "      <td>31</td>\n",
       "    </tr>\n",
       "    <tr>\n",
       "      <th>year_week</th>\n",
       "      <td>2015-30</td>\n",
       "      <td>2015-30</td>\n",
       "      <td>2015-30</td>\n",
       "      <td>2015-30</td>\n",
       "      <td>2015-30</td>\n",
       "    </tr>\n",
       "    <tr>\n",
       "      <th>competition_since_year</th>\n",
       "      <td>2015</td>\n",
       "      <td>2015</td>\n",
       "      <td>2015</td>\n",
       "      <td>2015</td>\n",
       "      <td>2015</td>\n",
       "    </tr>\n",
       "    <tr>\n",
       "      <th>competition_since_month</th>\n",
       "      <td>7</td>\n",
       "      <td>7</td>\n",
       "      <td>7</td>\n",
       "      <td>7</td>\n",
       "      <td>7</td>\n",
       "    </tr>\n",
       "    <tr>\n",
       "      <th>competition_since_day</th>\n",
       "      <td>1</td>\n",
       "      <td>1</td>\n",
       "      <td>1</td>\n",
       "      <td>1</td>\n",
       "      <td>1</td>\n",
       "    </tr>\n",
       "    <tr>\n",
       "      <th>competition_since</th>\n",
       "      <td>2015-07-01 00:00:00</td>\n",
       "      <td>2015-07-01 00:00:00</td>\n",
       "      <td>2015-07-01 00:00:00</td>\n",
       "      <td>2015-07-01 00:00:00</td>\n",
       "      <td>2015-07-01 00:00:00</td>\n",
       "    </tr>\n",
       "    <tr>\n",
       "      <th>competition_time_months</th>\n",
       "      <td>1</td>\n",
       "      <td>1</td>\n",
       "      <td>1</td>\n",
       "      <td>1</td>\n",
       "      <td>1</td>\n",
       "    </tr>\n",
       "    <tr>\n",
       "      <th>promo_since</th>\n",
       "      <td>2015-07-31 00:00:00</td>\n",
       "      <td>2015-07-27 00:00:00</td>\n",
       "      <td>2015-07-27 00:00:00</td>\n",
       "      <td>2015-07-31 00:00:00</td>\n",
       "      <td>2015-07-31 00:00:00</td>\n",
       "    </tr>\n",
       "    <tr>\n",
       "      <th>promo_time_weeks</th>\n",
       "      <td>0</td>\n",
       "      <td>0</td>\n",
       "      <td>0</td>\n",
       "      <td>0</td>\n",
       "      <td>0</td>\n",
       "    </tr>\n",
       "  </tbody>\n",
       "</table>\n",
       "</div>"
      ],
      "text/plain": [
       "                                                0                    1  \\\n",
       "store                                           1                    2   \n",
       "day_of_week                                     5                    5   \n",
       "date                          2015-07-31 00:00:00  2015-07-31 00:00:00   \n",
       "sales                                        5263                 6064   \n",
       "customers                                     555                  625   \n",
       "open                                            1                    1   \n",
       "promo                                           1                    1   \n",
       "state_holiday                         regular_day          regular_day   \n",
       "school_holiday                                  1                    1   \n",
       "store_type                                      c                    a   \n",
       "assortment                                  basic                basic   \n",
       "competition_distance                       1270.0                570.0   \n",
       "competition_open_since_month                    7                    7   \n",
       "competition_open_since_year                  2015                 2015   \n",
       "promo2                                          0                    1   \n",
       "promo2_since_week                               0                   31   \n",
       "promo2_since_year                               0                 2015   \n",
       "promo_interval                                  0                    0   \n",
       "month_map                                     Jul                  Jul   \n",
       "year                                         2015                 2015   \n",
       "month                                           7                    7   \n",
       "day                                            31                   31   \n",
       "week_of_year                                   31                   31   \n",
       "year_week                                 2015-30              2015-30   \n",
       "competition_since_year                       2015                 2015   \n",
       "competition_since_month                         7                    7   \n",
       "competition_since_day                           1                    1   \n",
       "competition_since             2015-07-01 00:00:00  2015-07-01 00:00:00   \n",
       "competition_time_months                         1                    1   \n",
       "promo_since                   2015-07-31 00:00:00  2015-07-27 00:00:00   \n",
       "promo_time_weeks                                0                    0   \n",
       "\n",
       "                                                2                    3  \\\n",
       "store                                           3                    4   \n",
       "day_of_week                                     5                    5   \n",
       "date                          2015-07-31 00:00:00  2015-07-31 00:00:00   \n",
       "sales                                        8314                13995   \n",
       "customers                                     821                 1498   \n",
       "open                                            1                    1   \n",
       "promo                                           1                    1   \n",
       "state_holiday                         regular_day          regular_day   \n",
       "school_holiday                                  1                    1   \n",
       "store_type                                      a                    c   \n",
       "assortment                                  basic             extended   \n",
       "competition_distance                      14130.0                620.0   \n",
       "competition_open_since_month                    7                    7   \n",
       "competition_open_since_year                  2015                 2015   \n",
       "promo2                                          1                    0   \n",
       "promo2_since_week                              31                    0   \n",
       "promo2_since_year                            2015                    0   \n",
       "promo_interval                                  0                    0   \n",
       "month_map                                     Jul                  Jul   \n",
       "year                                         2015                 2015   \n",
       "month                                           7                    7   \n",
       "day                                            31                   31   \n",
       "week_of_year                                   31                   31   \n",
       "year_week                                 2015-30              2015-30   \n",
       "competition_since_year                       2015                 2015   \n",
       "competition_since_month                         7                    7   \n",
       "competition_since_day                           1                    1   \n",
       "competition_since             2015-07-01 00:00:00  2015-07-01 00:00:00   \n",
       "competition_time_months                         1                    1   \n",
       "promo_since                   2015-07-27 00:00:00  2015-07-31 00:00:00   \n",
       "promo_time_weeks                                0                    0   \n",
       "\n",
       "                                                4  \n",
       "store                                           5  \n",
       "day_of_week                                     5  \n",
       "date                          2015-07-31 00:00:00  \n",
       "sales                                        4822  \n",
       "customers                                     559  \n",
       "open                                            1  \n",
       "promo                                           1  \n",
       "state_holiday                         regular_day  \n",
       "school_holiday                                  1  \n",
       "store_type                                      a  \n",
       "assortment                                  basic  \n",
       "competition_distance                      29910.0  \n",
       "competition_open_since_month                    7  \n",
       "competition_open_since_year                  2015  \n",
       "promo2                                          0  \n",
       "promo2_since_week                               0  \n",
       "promo2_since_year                               0  \n",
       "promo_interval                                  0  \n",
       "month_map                                     Jul  \n",
       "year                                         2015  \n",
       "month                                           7  \n",
       "day                                            31  \n",
       "week_of_year                                   31  \n",
       "year_week                                 2015-30  \n",
       "competition_since_year                       2015  \n",
       "competition_since_month                         7  \n",
       "competition_since_day                           1  \n",
       "competition_since             2015-07-01 00:00:00  \n",
       "competition_time_months                         1  \n",
       "promo_since                   2015-07-31 00:00:00  \n",
       "promo_time_weeks                                0  "
      ]
     },
     "execution_count": 33,
     "metadata": {},
     "output_type": "execute_result"
    }
   ],
   "source": [
    "df2.head().T"
   ]
  },
  {
   "cell_type": "markdown",
   "id": "6bb70e15",
   "metadata": {},
   "source": [
    "## 3.0 PASSO 3 - FILTRAGEM DE VARIAVEIS "
   ]
  },
  {
   "cell_type": "code",
   "execution_count": 39,
   "id": "5c10e340",
   "metadata": {},
   "outputs": [],
   "source": [
    "\n",
    "df3 = df2.copy()\n",
    "\n"
   ]
  },
  {
   "cell_type": "code",
   "execution_count": 36,
   "id": "afc8d74a",
   "metadata": {},
   "outputs": [
    {
     "data": {
      "application/vnd.microsoft.datawrangler.viewer.v0+json": {
       "columns": [
        {
         "name": "index",
         "rawType": "int64",
         "type": "integer"
        },
        {
         "name": "store",
         "rawType": "int64",
         "type": "integer"
        },
        {
         "name": "day_of_week",
         "rawType": "int64",
         "type": "integer"
        },
        {
         "name": "date",
         "rawType": "datetime64[ns]",
         "type": "datetime"
        },
        {
         "name": "sales",
         "rawType": "int64",
         "type": "integer"
        },
        {
         "name": "customers",
         "rawType": "int64",
         "type": "integer"
        },
        {
         "name": "open",
         "rawType": "int64",
         "type": "integer"
        },
        {
         "name": "promo",
         "rawType": "int64",
         "type": "integer"
        },
        {
         "name": "state_holiday",
         "rawType": "object",
         "type": "string"
        },
        {
         "name": "school_holiday",
         "rawType": "int64",
         "type": "integer"
        },
        {
         "name": "store_type",
         "rawType": "object",
         "type": "string"
        },
        {
         "name": "assortment",
         "rawType": "object",
         "type": "string"
        },
        {
         "name": "competition_distance",
         "rawType": "float64",
         "type": "float"
        },
        {
         "name": "competition_open_since_month",
         "rawType": "int64",
         "type": "integer"
        },
        {
         "name": "competition_open_since_year",
         "rawType": "int64",
         "type": "integer"
        },
        {
         "name": "promo2",
         "rawType": "int64",
         "type": "integer"
        },
        {
         "name": "promo2_since_week",
         "rawType": "int64",
         "type": "integer"
        },
        {
         "name": "promo2_since_year",
         "rawType": "int64",
         "type": "integer"
        },
        {
         "name": "promo_interval",
         "rawType": "object",
         "type": "unknown"
        },
        {
         "name": "month_map",
         "rawType": "object",
         "type": "string"
        },
        {
         "name": "year",
         "rawType": "int32",
         "type": "integer"
        },
        {
         "name": "month",
         "rawType": "int32",
         "type": "integer"
        },
        {
         "name": "day",
         "rawType": "int32",
         "type": "integer"
        },
        {
         "name": "week_of_year",
         "rawType": "UInt32",
         "type": "integer"
        },
        {
         "name": "year_week",
         "rawType": "object",
         "type": "string"
        },
        {
         "name": "competition_since_year",
         "rawType": "int64",
         "type": "integer"
        },
        {
         "name": "competition_since_month",
         "rawType": "int64",
         "type": "integer"
        },
        {
         "name": "competition_since_day",
         "rawType": "int64",
         "type": "integer"
        },
        {
         "name": "competition_since",
         "rawType": "datetime64[ns]",
         "type": "datetime"
        },
        {
         "name": "competition_time_months",
         "rawType": "int64",
         "type": "integer"
        },
        {
         "name": "promo_since",
         "rawType": "datetime64[ns]",
         "type": "datetime"
        },
        {
         "name": "promo_time_weeks",
         "rawType": "int64",
         "type": "integer"
        }
       ],
       "ref": "397ab84d-ff61-4551-b65e-61025c6f5e66",
       "rows": [
        [
         "0",
         "1",
         "5",
         "2015-07-31 00:00:00",
         "5263",
         "555",
         "1",
         "1",
         "regular_day",
         "1",
         "c",
         "basic",
         "1270.0",
         "7",
         "2015",
         "0",
         "0",
         "0",
         "0",
         "Jul",
         "2015",
         "7",
         "31",
         "31",
         "2015-30",
         "2015",
         "7",
         "1",
         "2015-07-01 00:00:00",
         "1",
         "2015-07-31 00:00:00",
         "0"
        ],
        [
         "1",
         "2",
         "5",
         "2015-07-31 00:00:00",
         "6064",
         "625",
         "1",
         "1",
         "regular_day",
         "1",
         "a",
         "basic",
         "570.0",
         "7",
         "2015",
         "1",
         "31",
         "2015",
         "0",
         "Jul",
         "2015",
         "7",
         "31",
         "31",
         "2015-30",
         "2015",
         "7",
         "1",
         "2015-07-01 00:00:00",
         "1",
         "2015-07-27 00:00:00",
         "0"
        ],
        [
         "2",
         "3",
         "5",
         "2015-07-31 00:00:00",
         "8314",
         "821",
         "1",
         "1",
         "regular_day",
         "1",
         "a",
         "basic",
         "14130.0",
         "7",
         "2015",
         "1",
         "31",
         "2015",
         "0",
         "Jul",
         "2015",
         "7",
         "31",
         "31",
         "2015-30",
         "2015",
         "7",
         "1",
         "2015-07-01 00:00:00",
         "1",
         "2015-07-27 00:00:00",
         "0"
        ],
        [
         "3",
         "4",
         "5",
         "2015-07-31 00:00:00",
         "13995",
         "1498",
         "1",
         "1",
         "regular_day",
         "1",
         "c",
         "extended",
         "620.0",
         "7",
         "2015",
         "0",
         "0",
         "0",
         "0",
         "Jul",
         "2015",
         "7",
         "31",
         "31",
         "2015-30",
         "2015",
         "7",
         "1",
         "2015-07-01 00:00:00",
         "1",
         "2015-07-31 00:00:00",
         "0"
        ],
        [
         "4",
         "5",
         "5",
         "2015-07-31 00:00:00",
         "4822",
         "559",
         "1",
         "1",
         "regular_day",
         "1",
         "a",
         "basic",
         "29910.0",
         "7",
         "2015",
         "0",
         "0",
         "0",
         "0",
         "Jul",
         "2015",
         "7",
         "31",
         "31",
         "2015-30",
         "2015",
         "7",
         "1",
         "2015-07-01 00:00:00",
         "1",
         "2015-07-31 00:00:00",
         "0"
        ]
       ],
       "shape": {
        "columns": 31,
        "rows": 5
       }
      },
      "text/html": [
       "<div>\n",
       "<style scoped>\n",
       "    .dataframe tbody tr th:only-of-type {\n",
       "        vertical-align: middle;\n",
       "    }\n",
       "\n",
       "    .dataframe tbody tr th {\n",
       "        vertical-align: top;\n",
       "    }\n",
       "\n",
       "    .dataframe thead th {\n",
       "        text-align: right;\n",
       "    }\n",
       "</style>\n",
       "<table border=\"1\" class=\"dataframe\">\n",
       "  <thead>\n",
       "    <tr style=\"text-align: right;\">\n",
       "      <th></th>\n",
       "      <th>store</th>\n",
       "      <th>day_of_week</th>\n",
       "      <th>date</th>\n",
       "      <th>sales</th>\n",
       "      <th>customers</th>\n",
       "      <th>open</th>\n",
       "      <th>promo</th>\n",
       "      <th>state_holiday</th>\n",
       "      <th>school_holiday</th>\n",
       "      <th>store_type</th>\n",
       "      <th>...</th>\n",
       "      <th>day</th>\n",
       "      <th>week_of_year</th>\n",
       "      <th>year_week</th>\n",
       "      <th>competition_since_year</th>\n",
       "      <th>competition_since_month</th>\n",
       "      <th>competition_since_day</th>\n",
       "      <th>competition_since</th>\n",
       "      <th>competition_time_months</th>\n",
       "      <th>promo_since</th>\n",
       "      <th>promo_time_weeks</th>\n",
       "    </tr>\n",
       "  </thead>\n",
       "  <tbody>\n",
       "    <tr>\n",
       "      <th>0</th>\n",
       "      <td>1</td>\n",
       "      <td>5</td>\n",
       "      <td>2015-07-31</td>\n",
       "      <td>5263</td>\n",
       "      <td>555</td>\n",
       "      <td>1</td>\n",
       "      <td>1</td>\n",
       "      <td>regular_day</td>\n",
       "      <td>1</td>\n",
       "      <td>c</td>\n",
       "      <td>...</td>\n",
       "      <td>31</td>\n",
       "      <td>31</td>\n",
       "      <td>2015-30</td>\n",
       "      <td>2015</td>\n",
       "      <td>7</td>\n",
       "      <td>1</td>\n",
       "      <td>2015-07-01</td>\n",
       "      <td>1</td>\n",
       "      <td>2015-07-31</td>\n",
       "      <td>0</td>\n",
       "    </tr>\n",
       "    <tr>\n",
       "      <th>1</th>\n",
       "      <td>2</td>\n",
       "      <td>5</td>\n",
       "      <td>2015-07-31</td>\n",
       "      <td>6064</td>\n",
       "      <td>625</td>\n",
       "      <td>1</td>\n",
       "      <td>1</td>\n",
       "      <td>regular_day</td>\n",
       "      <td>1</td>\n",
       "      <td>a</td>\n",
       "      <td>...</td>\n",
       "      <td>31</td>\n",
       "      <td>31</td>\n",
       "      <td>2015-30</td>\n",
       "      <td>2015</td>\n",
       "      <td>7</td>\n",
       "      <td>1</td>\n",
       "      <td>2015-07-01</td>\n",
       "      <td>1</td>\n",
       "      <td>2015-07-27</td>\n",
       "      <td>0</td>\n",
       "    </tr>\n",
       "    <tr>\n",
       "      <th>2</th>\n",
       "      <td>3</td>\n",
       "      <td>5</td>\n",
       "      <td>2015-07-31</td>\n",
       "      <td>8314</td>\n",
       "      <td>821</td>\n",
       "      <td>1</td>\n",
       "      <td>1</td>\n",
       "      <td>regular_day</td>\n",
       "      <td>1</td>\n",
       "      <td>a</td>\n",
       "      <td>...</td>\n",
       "      <td>31</td>\n",
       "      <td>31</td>\n",
       "      <td>2015-30</td>\n",
       "      <td>2015</td>\n",
       "      <td>7</td>\n",
       "      <td>1</td>\n",
       "      <td>2015-07-01</td>\n",
       "      <td>1</td>\n",
       "      <td>2015-07-27</td>\n",
       "      <td>0</td>\n",
       "    </tr>\n",
       "    <tr>\n",
       "      <th>3</th>\n",
       "      <td>4</td>\n",
       "      <td>5</td>\n",
       "      <td>2015-07-31</td>\n",
       "      <td>13995</td>\n",
       "      <td>1498</td>\n",
       "      <td>1</td>\n",
       "      <td>1</td>\n",
       "      <td>regular_day</td>\n",
       "      <td>1</td>\n",
       "      <td>c</td>\n",
       "      <td>...</td>\n",
       "      <td>31</td>\n",
       "      <td>31</td>\n",
       "      <td>2015-30</td>\n",
       "      <td>2015</td>\n",
       "      <td>7</td>\n",
       "      <td>1</td>\n",
       "      <td>2015-07-01</td>\n",
       "      <td>1</td>\n",
       "      <td>2015-07-31</td>\n",
       "      <td>0</td>\n",
       "    </tr>\n",
       "    <tr>\n",
       "      <th>4</th>\n",
       "      <td>5</td>\n",
       "      <td>5</td>\n",
       "      <td>2015-07-31</td>\n",
       "      <td>4822</td>\n",
       "      <td>559</td>\n",
       "      <td>1</td>\n",
       "      <td>1</td>\n",
       "      <td>regular_day</td>\n",
       "      <td>1</td>\n",
       "      <td>a</td>\n",
       "      <td>...</td>\n",
       "      <td>31</td>\n",
       "      <td>31</td>\n",
       "      <td>2015-30</td>\n",
       "      <td>2015</td>\n",
       "      <td>7</td>\n",
       "      <td>1</td>\n",
       "      <td>2015-07-01</td>\n",
       "      <td>1</td>\n",
       "      <td>2015-07-31</td>\n",
       "      <td>0</td>\n",
       "    </tr>\n",
       "  </tbody>\n",
       "</table>\n",
       "<p>5 rows × 31 columns</p>\n",
       "</div>"
      ],
      "text/plain": [
       "   store  day_of_week       date  sales  customers  open  promo state_holiday  \\\n",
       "0      1            5 2015-07-31   5263        555     1      1   regular_day   \n",
       "1      2            5 2015-07-31   6064        625     1      1   regular_day   \n",
       "2      3            5 2015-07-31   8314        821     1      1   regular_day   \n",
       "3      4            5 2015-07-31  13995       1498     1      1   regular_day   \n",
       "4      5            5 2015-07-31   4822        559     1      1   regular_day   \n",
       "\n",
       "   school_holiday store_type  ... day  week_of_year  year_week  \\\n",
       "0               1          c  ...  31            31    2015-30   \n",
       "1               1          a  ...  31            31    2015-30   \n",
       "2               1          a  ...  31            31    2015-30   \n",
       "3               1          c  ...  31            31    2015-30   \n",
       "4               1          a  ...  31            31    2015-30   \n",
       "\n",
       "   competition_since_year  competition_since_month  competition_since_day  \\\n",
       "0                    2015                        7                      1   \n",
       "1                    2015                        7                      1   \n",
       "2                    2015                        7                      1   \n",
       "3                    2015                        7                      1   \n",
       "4                    2015                        7                      1   \n",
       "\n",
       "   competition_since competition_time_months promo_since  promo_time_weeks  \n",
       "0         2015-07-01                       1  2015-07-31                 0  \n",
       "1         2015-07-01                       1  2015-07-27                 0  \n",
       "2         2015-07-01                       1  2015-07-27                 0  \n",
       "3         2015-07-01                       1  2015-07-31                 0  \n",
       "4         2015-07-01                       1  2015-07-31                 0  \n",
       "\n",
       "[5 rows x 31 columns]"
      ]
     },
     "execution_count": 36,
     "metadata": {},
     "output_type": "execute_result"
    }
   ],
   "source": [
    "df3.head()"
   ]
  },
  {
   "cell_type": "markdown",
   "id": "a0be115f",
   "metadata": {},
   "source": [
    "## 3.1 filtragem das linhas "
   ]
  },
  {
   "cell_type": "code",
   "execution_count": null,
   "id": "2545aacb",
   "metadata": {},
   "outputs": [],
   "source": [
    "df3 = df3[(df3['open'] != 0) & (df3['sales'] > 0)]"
   ]
  },
  {
   "cell_type": "markdown",
   "id": "0439eb12",
   "metadata": {},
   "source": [
    "## 3.2 Selecao das colunas\n",
    "\n"
   ]
  },
  {
   "cell_type": "code",
   "execution_count": null,
   "id": "bacb3d10",
   "metadata": {},
   "outputs": [
    {
     "ename": "KeyError",
     "evalue": "\"['customers', 'promo_interval', 'month_map'] not found in axis\"",
     "output_type": "error",
     "traceback": [
      "\u001b[31m---------------------------------------------------------------------------\u001b[39m",
      "\u001b[31mKeyError\u001b[39m                                  Traceback (most recent call last)",
      "\u001b[36mCell\u001b[39m\u001b[36m \u001b[39m\u001b[32mIn[41]\u001b[39m\u001b[32m, line 3\u001b[39m\n\u001b[32m      1\u001b[39m cols_drop = [\u001b[33m'\u001b[39m\u001b[33mcustomers\u001b[39m\u001b[33m'\u001b[39m,\u001b[33m'\u001b[39m\u001b[33mopen\u001b[39m\u001b[33m'\u001b[39m,\u001b[33m'\u001b[39m\u001b[33mpromo_interval\u001b[39m\u001b[33m'\u001b[39m,\u001b[33m'\u001b[39m\u001b[33mmonth_map\u001b[39m\u001b[33m'\u001b[39m]\n\u001b[32m----> \u001b[39m\u001b[32m3\u001b[39m df3 = \u001b[43mdf3\u001b[49m\u001b[43m.\u001b[49m\u001b[43mdrop\u001b[49m\u001b[43m(\u001b[49m\u001b[43mcols_drop\u001b[49m\u001b[43m,\u001b[49m\u001b[43m \u001b[49m\u001b[43maxis\u001b[49m\u001b[43m=\u001b[49m\u001b[32;43m1\u001b[39;49m\u001b[43m)\u001b[49m\n\u001b[32m      5\u001b[39m df3.columns\n",
      "\u001b[36mFile \u001b[39m\u001b[32mc:\\Users\\d\\Documents\\Repos\\Machine lerning\\.venv\\Lib\\site-packages\\pandas\\core\\frame.py:5588\u001b[39m, in \u001b[36mDataFrame.drop\u001b[39m\u001b[34m(self, labels, axis, index, columns, level, inplace, errors)\u001b[39m\n\u001b[32m   5440\u001b[39m \u001b[38;5;28;01mdef\u001b[39;00m\u001b[38;5;250m \u001b[39m\u001b[34mdrop\u001b[39m(\n\u001b[32m   5441\u001b[39m     \u001b[38;5;28mself\u001b[39m,\n\u001b[32m   5442\u001b[39m     labels: IndexLabel | \u001b[38;5;28;01mNone\u001b[39;00m = \u001b[38;5;28;01mNone\u001b[39;00m,\n\u001b[32m   (...)\u001b[39m\u001b[32m   5449\u001b[39m     errors: IgnoreRaise = \u001b[33m\"\u001b[39m\u001b[33mraise\u001b[39m\u001b[33m\"\u001b[39m,\n\u001b[32m   5450\u001b[39m ) -> DataFrame | \u001b[38;5;28;01mNone\u001b[39;00m:\n\u001b[32m   5451\u001b[39m \u001b[38;5;250m    \u001b[39m\u001b[33;03m\"\"\"\u001b[39;00m\n\u001b[32m   5452\u001b[39m \u001b[33;03m    Drop specified labels from rows or columns.\u001b[39;00m\n\u001b[32m   5453\u001b[39m \n\u001b[32m   (...)\u001b[39m\u001b[32m   5586\u001b[39m \u001b[33;03m            weight  1.0     0.8\u001b[39;00m\n\u001b[32m   5587\u001b[39m \u001b[33;03m    \"\"\"\u001b[39;00m\n\u001b[32m-> \u001b[39m\u001b[32m5588\u001b[39m     \u001b[38;5;28;01mreturn\u001b[39;00m \u001b[38;5;28;43msuper\u001b[39;49m\u001b[43m(\u001b[49m\u001b[43m)\u001b[49m\u001b[43m.\u001b[49m\u001b[43mdrop\u001b[49m\u001b[43m(\u001b[49m\n\u001b[32m   5589\u001b[39m \u001b[43m        \u001b[49m\u001b[43mlabels\u001b[49m\u001b[43m=\u001b[49m\u001b[43mlabels\u001b[49m\u001b[43m,\u001b[49m\n\u001b[32m   5590\u001b[39m \u001b[43m        \u001b[49m\u001b[43maxis\u001b[49m\u001b[43m=\u001b[49m\u001b[43maxis\u001b[49m\u001b[43m,\u001b[49m\n\u001b[32m   5591\u001b[39m \u001b[43m        \u001b[49m\u001b[43mindex\u001b[49m\u001b[43m=\u001b[49m\u001b[43mindex\u001b[49m\u001b[43m,\u001b[49m\n\u001b[32m   5592\u001b[39m \u001b[43m        \u001b[49m\u001b[43mcolumns\u001b[49m\u001b[43m=\u001b[49m\u001b[43mcolumns\u001b[49m\u001b[43m,\u001b[49m\n\u001b[32m   5593\u001b[39m \u001b[43m        \u001b[49m\u001b[43mlevel\u001b[49m\u001b[43m=\u001b[49m\u001b[43mlevel\u001b[49m\u001b[43m,\u001b[49m\n\u001b[32m   5594\u001b[39m \u001b[43m        \u001b[49m\u001b[43minplace\u001b[49m\u001b[43m=\u001b[49m\u001b[43minplace\u001b[49m\u001b[43m,\u001b[49m\n\u001b[32m   5595\u001b[39m \u001b[43m        \u001b[49m\u001b[43merrors\u001b[49m\u001b[43m=\u001b[49m\u001b[43merrors\u001b[49m\u001b[43m,\u001b[49m\n\u001b[32m   5596\u001b[39m \u001b[43m    \u001b[49m\u001b[43m)\u001b[49m\n",
      "\u001b[36mFile \u001b[39m\u001b[32mc:\\Users\\d\\Documents\\Repos\\Machine lerning\\.venv\\Lib\\site-packages\\pandas\\core\\generic.py:4807\u001b[39m, in \u001b[36mNDFrame.drop\u001b[39m\u001b[34m(self, labels, axis, index, columns, level, inplace, errors)\u001b[39m\n\u001b[32m   4805\u001b[39m \u001b[38;5;28;01mfor\u001b[39;00m axis, labels \u001b[38;5;129;01min\u001b[39;00m axes.items():\n\u001b[32m   4806\u001b[39m     \u001b[38;5;28;01mif\u001b[39;00m labels \u001b[38;5;129;01mis\u001b[39;00m \u001b[38;5;129;01mnot\u001b[39;00m \u001b[38;5;28;01mNone\u001b[39;00m:\n\u001b[32m-> \u001b[39m\u001b[32m4807\u001b[39m         obj = \u001b[43mobj\u001b[49m\u001b[43m.\u001b[49m\u001b[43m_drop_axis\u001b[49m\u001b[43m(\u001b[49m\u001b[43mlabels\u001b[49m\u001b[43m,\u001b[49m\u001b[43m \u001b[49m\u001b[43maxis\u001b[49m\u001b[43m,\u001b[49m\u001b[43m \u001b[49m\u001b[43mlevel\u001b[49m\u001b[43m=\u001b[49m\u001b[43mlevel\u001b[49m\u001b[43m,\u001b[49m\u001b[43m \u001b[49m\u001b[43merrors\u001b[49m\u001b[43m=\u001b[49m\u001b[43merrors\u001b[49m\u001b[43m)\u001b[49m\n\u001b[32m   4809\u001b[39m \u001b[38;5;28;01mif\u001b[39;00m inplace:\n\u001b[32m   4810\u001b[39m     \u001b[38;5;28mself\u001b[39m._update_inplace(obj)\n",
      "\u001b[36mFile \u001b[39m\u001b[32mc:\\Users\\d\\Documents\\Repos\\Machine lerning\\.venv\\Lib\\site-packages\\pandas\\core\\generic.py:4849\u001b[39m, in \u001b[36mNDFrame._drop_axis\u001b[39m\u001b[34m(self, labels, axis, level, errors, only_slice)\u001b[39m\n\u001b[32m   4847\u001b[39m         new_axis = axis.drop(labels, level=level, errors=errors)\n\u001b[32m   4848\u001b[39m     \u001b[38;5;28;01melse\u001b[39;00m:\n\u001b[32m-> \u001b[39m\u001b[32m4849\u001b[39m         new_axis = \u001b[43maxis\u001b[49m\u001b[43m.\u001b[49m\u001b[43mdrop\u001b[49m\u001b[43m(\u001b[49m\u001b[43mlabels\u001b[49m\u001b[43m,\u001b[49m\u001b[43m \u001b[49m\u001b[43merrors\u001b[49m\u001b[43m=\u001b[49m\u001b[43merrors\u001b[49m\u001b[43m)\u001b[49m\n\u001b[32m   4850\u001b[39m     indexer = axis.get_indexer(new_axis)\n\u001b[32m   4852\u001b[39m \u001b[38;5;66;03m# Case for non-unique axis\u001b[39;00m\n\u001b[32m   4853\u001b[39m \u001b[38;5;28;01melse\u001b[39;00m:\n",
      "\u001b[36mFile \u001b[39m\u001b[32mc:\\Users\\d\\Documents\\Repos\\Machine lerning\\.venv\\Lib\\site-packages\\pandas\\core\\indexes\\base.py:7136\u001b[39m, in \u001b[36mIndex.drop\u001b[39m\u001b[34m(self, labels, errors)\u001b[39m\n\u001b[32m   7134\u001b[39m \u001b[38;5;28;01mif\u001b[39;00m mask.any():\n\u001b[32m   7135\u001b[39m     \u001b[38;5;28;01mif\u001b[39;00m errors != \u001b[33m\"\u001b[39m\u001b[33mignore\u001b[39m\u001b[33m\"\u001b[39m:\n\u001b[32m-> \u001b[39m\u001b[32m7136\u001b[39m         \u001b[38;5;28;01mraise\u001b[39;00m \u001b[38;5;167;01mKeyError\u001b[39;00m(\u001b[33mf\u001b[39m\u001b[33m\"\u001b[39m\u001b[38;5;132;01m{\u001b[39;00mlabels[mask].tolist()\u001b[38;5;132;01m}\u001b[39;00m\u001b[33m not found in axis\u001b[39m\u001b[33m\"\u001b[39m)\n\u001b[32m   7137\u001b[39m     indexer = indexer[~mask]\n\u001b[32m   7138\u001b[39m \u001b[38;5;28;01mreturn\u001b[39;00m \u001b[38;5;28mself\u001b[39m.delete(indexer)\n",
      "\u001b[31mKeyError\u001b[39m: \"['customers', 'promo_interval', 'month_map'] not found in axis\""
     ]
    }
   ],
   "source": [
    "cols_drop = ['customers','open','promo_interval','month_map']\n",
    "\n",
    "df3 = df3.drop(cols_drop, axis=1)\n",
    "\n",
    "df3.columns\n"
   ]
  }
 ],
 "metadata": {
  "kernelspec": {
   "display_name": ".venv",
   "language": "python",
   "name": "python3"
  },
  "language_info": {
   "codemirror_mode": {
    "name": "ipython",
    "version": 3
   },
   "file_extension": ".py",
   "mimetype": "text/x-python",
   "name": "python",
   "nbconvert_exporter": "python",
   "pygments_lexer": "ipython3",
   "version": "3.12.6"
  }
 },
 "nbformat": 4,
 "nbformat_minor": 5
}
